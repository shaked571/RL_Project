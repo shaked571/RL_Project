{
  "nbformat": 4,
  "nbformat_minor": 0,
  "metadata": {
    "colab": {
      "name": "Q-Learning.ipynb",
      "provenance": [],
      "collapsed_sections": [],
      "toc_visible": true,
      "include_colab_link": true
    },
    "kernelspec": {
      "name": "python3",
      "display_name": "Python 3"
    },
    "language_info": {
      "name": "python"
    }
  },
  "cells": [
    {
      "cell_type": "markdown",
      "metadata": {
        "id": "view-in-github",
        "colab_type": "text"
      },
      "source": [
        "<a href=\"https://colab.research.google.com/github/shaked571/RL_Project/blob/master/Q_Learning.ipynb\" target=\"_parent\"><img src=\"https://colab.research.google.com/assets/colab-badge.svg\" alt=\"Open In Colab\"/></a>"
      ]
    },
    {
      "cell_type": "code",
      "metadata": {
        "id": "NbxNfCQq2-8H",
        "colab": {
          "base_uri": "https://localhost:8080/"
        },
        "outputId": "7ded7f21-3c7f-404b-ed19-cae5b2af3b85"
      },
      "source": [
        "!sudo apt-get update\n",
        "!pip install gym pyvirtualdisplay > /dev/null 2>&1\n",
        "!apt-get install -y xvfb python-opengl ffmpeg > /dev/null 2>&1\n",
        "!apt-get update > /dev/null 2>&1\n",
        "!apt-get install cmake > /dev/null 2>&1\n",
        "!pip install --upgrade setuptools 2>&1\n",
        "!pip install ez_setup > /dev/null 2>&1\n",
        "!pip install gym[atari] > /dev/null 2>&1\n",
        "!pip install tqdm\n",
        "import gym\n",
        "from gym.wrappers import Monitor\n",
        "import glob\n",
        "import io\n",
        "import base64\n",
        "from IPython.display import HTML\n",
        "from pyvirtualdisplay import Display\n",
        "from IPython import display as ipythondisplay\n",
        "from tqdm import tqdm"
      ],
      "execution_count": 1,
      "outputs": [
        {
          "output_type": "stream",
          "name": "stdout",
          "text": [
            "\r0% [Working]\r            \rHit:1 https://cloud.r-project.org/bin/linux/ubuntu bionic-cran40/ InRelease\n",
            "\r0% [Connecting to archive.ubuntu.com (91.189.88.142)] [Connecting to security.u\r0% [1 InRelease gpgv 3,626 B] [Connecting to archive.ubuntu.com (91.189.88.142)\r                                                                               \rHit:2 http://security.ubuntu.com/ubuntu bionic-security InRelease\n",
            "\r0% [1 InRelease gpgv 3,626 B] [Waiting for headers] [Waiting for headers] [Wait\r                                                                               \r0% [Waiting for headers] [Waiting for headers] [Waiting for headers]\r0% [2 InRelease gpgv 88.7 kB] [Waiting for headers] [Waiting for headers] [Wait\r                                                                               \rIgn:3 https://developer.download.nvidia.com/compute/cuda/repos/ubuntu1804/x86_64  InRelease\n",
            "\r0% [2 InRelease gpgv 88.7 kB] [Waiting for headers] [Waiting for headers] [Wait\r                                                                               \rHit:4 http://ppa.launchpad.net/c2d4u.team/c2d4u4.0+/ubuntu bionic InRelease\n",
            "\r0% [2 InRelease gpgv 88.7 kB] [Waiting for headers] [Connecting to ppa.launchpa\r                                                                               \rHit:5 http://archive.ubuntu.com/ubuntu bionic InRelease\n",
            "\r0% [2 InRelease gpgv 88.7 kB] [Connecting to ppa.launchpad.net (91.189.95.85)] \r                                                                               \rIgn:6 https://developer.download.nvidia.com/compute/machine-learning/repos/ubuntu1804/x86_64  InRelease\n",
            "\r0% [2 InRelease gpgv 88.7 kB] [Waiting for headers] [Connecting to ppa.launchpa\r0% [Waiting for headers] [Connecting to ppa.launchpad.net (91.189.95.85)] [Wait\r0% [4 InRelease gpgv 15.9 kB] [Waiting for headers] [Waiting for headers] [Wait\r                                                                               \rHit:7 http://archive.ubuntu.com/ubuntu bionic-updates InRelease\n",
            "\r                                                                               \r0% [4 InRelease gpgv 15.9 kB] [Waiting for headers] [Waiting for headers]\r                                                                         \rHit:8 https://developer.download.nvidia.com/compute/cuda/repos/ubuntu1804/x86_64  Release\n",
            "Hit:9 https://developer.download.nvidia.com/compute/machine-learning/repos/ubuntu1804/x86_64  Release\n",
            "Hit:10 http://ppa.launchpad.net/cran/libgit2/ubuntu bionic InRelease\n",
            "Hit:11 http://archive.ubuntu.com/ubuntu bionic-backports InRelease\n",
            "Hit:12 http://ppa.launchpad.net/deadsnakes/ppa/ubuntu bionic InRelease\n",
            "Hit:13 http://ppa.launchpad.net/graphics-drivers/ppa/ubuntu bionic InRelease\n",
            "Reading package lists... Done\n",
            "Requirement already satisfied: setuptools in /usr/local/lib/python3.7/dist-packages (60.5.0)\n"
          ]
        }
      ]
    },
    {
      "cell_type": "code",
      "metadata": {
        "id": "IBL7zGQU3Y6t"
      },
      "source": [
        "display = Display(visible=0, size=(1400, 900))\n",
        "display.start()\n",
        "\n",
        "\"\"\"\n",
        "Utility functions to enable video recording of gym environment \n",
        "and displaying it.\n",
        "To enable video, just do \"env = wrap_env(env)\"\"\n",
        "\"\"\"\n",
        "\n",
        "def show_video():\n",
        "  mp4list = glob.glob('video/*.mp4')\n",
        "  if len(mp4list) > 0:\n",
        "    mp4 = mp4list[0]\n",
        "    video = io.open(mp4, 'r+b').read()\n",
        "    encoded = base64.b64encode(video)\n",
        "    ipythondisplay.display(HTML(data='''<video alt=\"test\" autoplay \n",
        "                loop controls style=\"height: 400px;\">\n",
        "                <source src=\"data:video/mp4;base64,{0}\" type=\"video/mp4\" />\n",
        "             </video>'''.format(encoded.decode('ascii'))))\n",
        "  else: \n",
        "    print(\"Could not find video\")\n",
        "    \n",
        "\n",
        "def wrap_env(env):\n",
        "  env = Monitor(env, './video', force=True)\n",
        "  return env"
      ],
      "execution_count": 2,
      "outputs": []
    },
    {
      "cell_type": "code",
      "source": [
        "# This code creates a virtual display to draw game images on. \n",
        "# If you are running locally, just ignore it\n",
        "import os\n",
        "if type(os.environ.get(\"DISPLAY\")) is not str or len(os.environ.get(\"DISPLAY\"))==0:\n",
        "    !bash ../xvfb start\n",
        "    %env DISPLAY=:1"
      ],
      "metadata": {
        "id": "rl1W8pW12759"
      },
      "execution_count": 3,
      "outputs": []
    },
    {
      "cell_type": "code",
      "source": [
        "!apt-get install x11-utils > /dev/null 2>&1 \n",
        "!pip install pyglet > /dev/null 2>&1 \n",
        "!apt-get install -y xvfb python-opengl > /dev/null 2>&1\n",
        "import gym\n",
        "import numpy as np\n",
        "import matplotlib.pyplot as plt\n",
        "from IPython import display as ipythondisplay\n",
        "!pip install Box2d"
      ],
      "metadata": {
        "colab": {
          "base_uri": "https://localhost:8080/"
        },
        "id": "drQ67UiyjwWb",
        "outputId": "a6af0c5f-e814-4a99-8ece-c58c42d18127"
      },
      "execution_count": 4,
      "outputs": [
        {
          "output_type": "stream",
          "name": "stdout",
          "text": [
            "Requirement already satisfied: Box2d in /usr/local/lib/python3.7/dist-packages (2.3.10)\n"
          ]
        }
      ]
    },
    {
      "cell_type": "code",
      "source": [
        "import gym\n",
        "import numpy as np\n",
        "import random\n",
        "import math\n",
        "from collections import defaultdict, deque\n",
        "import matplotlib.pyplot as plt\n",
        "import glob\n",
        "import io\n",
        "from gym.wrappers import Monitor\n",
        "from IPython.display import HTML\n",
        "from pyvirtualdisplay import Display\n",
        "from IPython import display as ipythondisplay\n",
        "import base64"
      ],
      "metadata": {
        "id": "_ULmi-F2lPZf"
      },
      "execution_count": 5,
      "outputs": []
    },
    {
      "cell_type": "code",
      "source": [
        "gym.logger.set_level(40)\n",
        "\n",
        "bucket_size_states = (4,5,5,5,4,5,4,5,2,4,5,4,5,2)\n",
        "dim_states = len(bucket_size_states)\n",
        "\n",
        "bucket_size_action = (20,20,20,20)\n",
        "dim_action = len(bucket_size_action)\n",
        "sBounds = [(0, math.pi),\n",
        "           (-2,2),\n",
        "           (-1,1),\n",
        "           (-1,1),\n",
        "           (0,math.pi),\n",
        "           (-2,2),\n",
        "           (0, math.pi),\n",
        "           (-2,2),\n",
        "           (0,1),\n",
        "           (0, math.pi),\n",
        "           (-2, 2),\n",
        "           (0, math.pi),\n",
        "           (-2, 2),\n",
        "           (0, 1)]\n",
        "aBounds = (-1, 1)\n",
        "\n",
        "env = gym.make('BipedalWalker-v3')\n",
        "env = wrap_env(env)\n",
        "\n",
        "\n",
        "def update_Q(lear_rate, disc_rate, q_table, state, action, reward, next_state=None):\n",
        "    \"\"\"Returns updated Q-value for the most recent experience.\"\"\"\n",
        "    current = q_table[state][action]  # estimate in Q-table (for current state, action pair)\n",
        "    # get value of state, action pair at next time step\n",
        "    Qsa_next = np.max(q_table[next_state]) if next_state is not None else 0\n",
        "    target = reward + (disc_rate * Qsa_next)               # construct TD target\n",
        "    new_value = current + (lear_rate * (target - current)) # get updated value\n",
        "    return new_value\n",
        "\n",
        "\n",
        "def state_to_bucket(state):\n",
        "    bucket_state = []\n",
        "    for i in range(len(state)):\n",
        "        bucket_index = int((state[i]-sBounds[i][0])\n",
        "                           / (sBounds[i][1]-sBounds[i][0])*bucket_size_states[i]-1)\n",
        "        bucket_state.append(bucket_index)\n",
        "    return tuple(bucket_state)\n",
        "\n",
        "\n",
        "def bucket_to_action(bucket_action):\n",
        "    action = []\n",
        "    for i in range(len(bucket_action)):\n",
        "        value_action = bucket_action[i] \\\n",
        "                       / (bucket_size_action[i] -1 ) * (aBounds[1] - aBounds[0]) - 1\n",
        "        action.append(value_action)\n",
        "    return tuple(action)\n",
        "\n",
        "\n",
        "def choose_action(q_table, state, eps):\n",
        "    # Select a random action\n",
        "    if random.random() < eps:\n",
        "        #print(\"azione random\")\n",
        "        action = ()\n",
        "        for i in range (0, dim_action):\n",
        "            action += (random.randint(0, bucket_size_action[i]-1),)\n",
        "        #action = action_to_bucket(env.action_space.sample())\n",
        "    # Select the action with the highest q\n",
        "    else:\n",
        "\n",
        "        action = np.unravel_index(np.argmax(q_table[state]), q_table[state].shape)\n",
        "        #print(\"azione max q_table\", action, \"q-value\", q_table[state][action])\n",
        "    return action\n",
        "\n",
        "\n",
        "def dd():\n",
        "    return np.zeros(bucket_size_action)\n",
        "\n",
        "\n",
        "def q_learning(env, num_episodes=100000, learn_rate= 0.01, disc_rate = 0.99, plot_every=1000):\n",
        "    fig= plt.figure()\n",
        "    xdata, ydata = [],[]\n",
        "    ax=fig.add_subplot()\n",
        "    plt.xlabel('Episode Number')\n",
        "    plt.ylabel('Average Reward (Over Next %d Episodes)' % plot_every)\n",
        "    Ln, = ax.plot(xdata,ydata)\n",
        "    ax.set_xlim([plot_every,num_episodes])\n",
        "    ax.set_ylim([-100,300])\n",
        "\n",
        "\n",
        "    #q_table = np.zeros(bucket_size_states + bucket_size_action)\n",
        "    #q_table = defaultdict(lambda: np.zeros(bucket_size_action))\n",
        "    q_table = defaultdict(dd)\n",
        "    #monitor performance\n",
        "    tmp_scores = deque(maxlen=plot_every)  # deque for keeping track of scores\n",
        "    avg_scores = deque(maxlen=num_episodes)  # average scores over every plot_every episodes\n",
        "\n",
        "    for i_episode in tqdm(range(1, num_episodes + 1)):\n",
        "        state = state_to_bucket(env.reset()[0:dim_states])\n",
        "        total_reward = 0\n",
        "        eps = 1.0/i_episode\n",
        "        while True:\n",
        "            #env.render()\n",
        "            action = choose_action(q_table, state, eps)\n",
        "            action_real = bucket_to_action(action)\n",
        "            next_state_real, reward, done, info = env.step(action_real)\n",
        "            next_state = state_to_bucket(next_state_real[0:dim_states])\n",
        "            total_reward += reward\n",
        "            q_table[state][action] = update_Q(learn_rate, disc_rate, q_table, state, action, reward, next_state)\n",
        "            state = next_state\n",
        "            if done:\n",
        "                tmp_scores.append(total_reward)\n",
        "                break\n",
        "\n",
        "        if (i_episode % plot_every == 0):\n",
        "            # plot performance\n",
        "            print(f\"total_reward: {total_reward}\")\n",
        "            print(f\"next_state_real: {next_state_real}\")\n",
        "            print(f\"done: {done}\")\n",
        "            print(f\"info: {info}\")\n",
        "            print(\"salvo performance\")\n",
        "            xdata.append(i_episode)\n",
        "            ydata.append(np.mean(tmp_scores))\n",
        "            Ln.set_ydata(ydata)\n",
        "            Ln.set_xdata(xdata)\n",
        "            # fig.show()\n",
        "            # fig.savefig(f\"/content/drive/My Drive/pic_{i_episode}.png\")\n",
        "            # fig.savefig(f\"img_output/pic_{i_episode}\")\n",
        "            # print best 100-episode performance\n",
        "            # print(('Best Average Reward over %d Episodes: ' % plot_every), np.max(avg_scores))\n",
        "            # f = open(\"/content/drive/My Drive/Colab Notebooks/q_table_learning_3.pkl\", \"wb\")\n",
        "            # pickle.dump(q_table,f)\n",
        "            # f.close()\n",
        "        # print(\"num_episodio\", i_episode)\n",
        "\n",
        "    env.close()\n",
        "\n",
        "    # plot performance\n",
        "\n",
        "    # print best 100-episode performance\n",
        "    # print(('Best Average Reward over %d Episodes: ' % plot_every), np.max(avg_scores))\n",
        "    return q_table\n",
        "\n"
      ],
      "metadata": {
        "id": "ttuR3LZclG7J"
      },
      "execution_count": 9,
      "outputs": []
    },
    {
      "cell_type": "code",
      "source": [
        ""
      ],
      "metadata": {
        "id": "wgoJct7iF5Yv"
      },
      "execution_count": null,
      "outputs": []
    },
    {
      "cell_type": "markdown",
      "source": [
        "# New Section"
      ],
      "metadata": {
        "id": "4NQYRaHxF6X9"
      }
    },
    {
      "cell_type": "code",
      "source": [
        "Q_learn = q_learning(env, num_episodes=3000, plot_every=100)\n",
        "show_video()"
      ],
      "metadata": {
        "colab": {
          "base_uri": "https://localhost:8080/",
          "height": 1000
        },
        "id": "Aj7HnBAbpEEA",
        "outputId": "a512e7c4-d6c4-459b-e77f-06961238fcb3"
      },
      "execution_count": 10,
      "outputs": [
        {
          "output_type": "stream",
          "name": "stdout",
          "text": [
            "total_reward: -106.72137337622485\n",
            "next_state_real: [-0.45156872  0.02844154  0.07667275 -0.05243396 -0.82927102 -0.62046272\n",
            " -0.62131894  0.          0.         -0.84075123 -0.52697825 -0.05979002\n",
            " -1.00000032  0.          0.14041476  0.14200938  0.14697938  0.15593894\n",
            "  0.17013049  0.19190501  0.22588885  0.28220043  0.38750312  0.64114368]\n",
            "done: True\n",
            "info: {}\n",
            "salvo performance\n",
            "total_reward: -108.84391761844316\n",
            "next_state_real: [-0.51823014  0.01017307  0.06071146 -0.0176906  -0.87553716 -0.72910738\n",
            " -0.615201    0.          0.         -0.86814082 -0.72910738  0.45691907\n",
            "  1.00000008  0.          0.15147968  0.15319996  0.15856159  0.16822718\n",
            "  0.18353705  0.20702745  0.24368925  0.30443829  0.41803899  0.69166684]\n",
            "done: True\n",
            "info: {}\n",
            "salvo performance\n",
            "total_reward: -103.98944566689521\n",
            "next_state_real: [-4.49792355e-01  1.51424253e-02  8.61259818e-02 -2.78580165e-02\n",
            " -8.29538763e-01  2.23517418e-08 -6.14294767e-01  0.00000000e+00\n",
            "  0.00000000e+00 -8.34906876e-01  0.00000000e+00 -3.67387295e-01\n",
            " -1.00000016e+00  0.00000000e+00  1.40260622e-01  1.41853482e-01\n",
            "  1.46818027e-01  1.55767754e-01  1.69943735e-01  1.91694349e-01\n",
            "  2.25640878e-01  2.81890631e-01  3.87077719e-01  6.47620380e-01]\n",
            "done: True\n",
            "info: {}\n",
            "salvo performance\n",
            "total_reward: -99.98888652577885\n",
            "next_state_real: [-0.46300778  0.03324468  0.12718014 -0.06061878 -0.83516341 -0.80925316\n",
            " -0.59892702  0.          0.         -0.86131185 -0.80925316 -0.03702259\n",
            "  0.47743988  0.          0.14243178  0.1440493   0.14909069  0.15817896\n",
            "  0.17257437  0.19466168  0.22913368  0.28625417  0.39306948  0.63552874]\n",
            "done: True\n",
            "info: {}\n",
            "salvo performance\n",
            "total_reward: -105.33282652119662\n",
            "next_state_real: [-0.49088281  0.0427599   0.07846276 -0.0760899  -0.82296515 -0.6306473\n",
            " -0.61568379  0.          0.         -0.89966226 -1.63064766  0.09876215\n",
            "  0.82179165  0.          0.14696749  0.14863652  0.15383844  0.16321613\n",
            "  0.17806996  0.20086062  0.23643038  0.29536983  0.40558669  0.6710639 ]\n",
            "done: True\n",
            "info: {}\n",
            "salvo performance\n",
            "total_reward: -100.83731994704144\n",
            "next_state_real: [-4.65236306e-01  2.80845475e-02  1.33540449e-01 -5.10392380e-02\n",
            " -8.73989403e-01 -8.32835615e-01 -6.24166012e-01  0.00000000e+00\n",
            "  0.00000000e+00 -8.51079524e-01 -8.32835674e-01 -6.31805301e-01\n",
            " -3.97364299e-08  0.00000000e+00  1.42719492e-01  1.44340277e-01\n",
            "  1.49391860e-01  1.58498481e-01  1.72922969e-01  1.95054889e-01\n",
            "  2.29596525e-01  2.86832392e-01  3.93863499e-01  6.48229003e-01]\n",
            "done: True\n",
            "info: {}\n",
            "salvo performance\n",
            "total_reward: -100.60604152998329\n",
            "next_state_real: [-4.47377473e-01  3.04602790e-02  1.18537874e-01 -5.57770014e-02\n",
            " -8.27731669e-01 -4.47034836e-08 -6.21772408e-01  0.00000000e+00\n",
            "  0.00000000e+00 -8.58091533e-01 -5.97669542e-01  4.89262342e-02\n",
            " -2.63706883e-01  0.00000000e+00  1.39674380e-01  1.41260594e-01\n",
            "  1.46204382e-01  1.55116707e-01  1.69233426e-01  1.90893129e-01\n",
            "  2.24697769e-01  2.80712426e-01  3.85459870e-01  6.34534717e-01]\n",
            "done: True\n",
            "info: {}\n",
            "salvo performance\n",
            "total_reward: -100.710538410141\n",
            "next_state_real: [-0.49062273  0.02620136  0.09685306 -0.04671436 -0.84646291 -0.81848234\n",
            " -0.60684037  0.          0.         -0.8448537  -0.81848234 -0.6064744\n",
            "  0.          0.          0.14701085  0.14868037  0.15388383  0.16326429\n",
            "  0.17812249  0.2009199   0.23650014  0.29545701  0.40570635  0.6661576 ]\n",
            "done: True\n",
            "info: {}\n",
            "salvo performance\n",
            "total_reward: -109.99018348791896\n",
            "next_state_real: [-0.46124414  0.02687268  0.05973759 -0.04917641 -0.82668954 -0.66848367\n",
            " -0.61987436  0.          0.         -0.83886033 -0.66848367  0.00789952\n",
            " -0.33788884  0.          0.1420467   0.14365986  0.14868762  0.15775131\n",
            "  0.1721078   0.1941354   0.22851419  0.28548023  0.39200678  0.64859521]\n",
            "done: True\n",
            "info: {}\n",
            "salvo performance\n",
            "total_reward: -102.21673286028687\n",
            "next_state_real: [-0.47563177  0.03793715  0.13849784 -0.06828076 -0.84235942 -0.73182905\n",
            " -0.60479236  0.          0.         -0.91094089 -1.73182905 -0.32564592\n",
            "  0.99999984  0.          0.14445399  0.14609447  0.15120743  0.16042474\n",
            "  0.17502454  0.19742543  0.23238686  0.29031831  0.39865017  0.64454395]\n",
            "done: True\n",
            "info: {}\n",
            "salvo performance\n"
          ]
        },
        {
          "output_type": "display_data",
          "data": {
            "text/html": [
              "<video alt=\"test\" autoplay \n",
              "                loop controls style=\"height: 400px;\">\n",
              "                <source src=\"data:video/mp4;base64,AAAAIGZ0eXBpc29tAAACAGlzb21pc28yYXZjMW1wNDEAAAAIZnJlZQAAiC1tZGF0AAACrgYF//+q3EXpvebZSLeWLNgg2SPu73gyNjQgLSBjb3JlIDE1MiByMjg1NCBlOWE1OTAzIC0gSC4yNjQvTVBFRy00IEFWQyBjb2RlYyAtIENvcHlsZWZ0IDIwMDMtMjAxNyAtIGh0dHA6Ly93d3cudmlkZW9sYW4ub3JnL3gyNjQuaHRtbCAtIG9wdGlvbnM6IGNhYmFjPTEgcmVmPTMgZGVibG9jaz0xOjA6MCBhbmFseXNlPTB4MzoweDExMyBtZT1oZXggc3VibWU9NyBwc3k9MSBwc3lfcmQ9MS4wMDowLjAwIG1peGVkX3JlZj0xIG1lX3JhbmdlPTE2IGNocm9tYV9tZT0xIHRyZWxsaXM9MSA4eDhkY3Q9MSBjcW09MCBkZWFkem9uZT0yMSwxMSBmYXN0X3Bza2lwPTEgY2hyb21hX3FwX29mZnNldD0tMiB0aHJlYWRzPTMgbG9va2FoZWFkX3RocmVhZHM9MSBzbGljZWRfdGhyZWFkcz0wIG5yPTAgZGVjaW1hdGU9MSBpbnRlcmxhY2VkPTAgYmx1cmF5X2NvbXBhdD0wIGNvbnN0cmFpbmVkX2ludHJhPTAgYmZyYW1lcz0zIGJfcHlyYW1pZD0yIGJfYWRhcHQ9MSBiX2JpYXM9MCBkaXJlY3Q9MSB3ZWlnaHRiPTEgb3Blbl9nb3A9MCB3ZWlnaHRwPTIga2V5aW50PTI1MCBrZXlpbnRfbWluPTI1IHNjZW5lY3V0PTQwIGludHJhX3JlZnJlc2g9MCByY19sb29rYWhlYWQ9NDAgcmM9Y3JmIG1idHJlZT0xIGNyZj0yMy4wIHFjb21wPTAuNjAgcXBtaW49MCBxcG1heD02OSBxcHN0ZXA9NCBpcF9yYXRpbz0xLjQwIGFxPTE6MS4wMACAAAAKxGWIhAAr//72c3wKa0czlS4QX+K+4ZbllHC9ypcsXBAABYlw8el5jAXAeWR565JkzfUix1l4dlkhTTfNAOW6NKW298Tmpjydk2gAde2uE9zeAAAEBos9bJXFFkha55VqQFH+jwp6jNcPl1lPJfrj+dRCB7zkXAjEf/k1Kgacx2jpasg+SzbC/Chxq7ooVSPzsWdhFGekOWOrQn+a+31lK6h6vWBykAALeNrEg3PYX+VxRNEH+1nI+5JpATuW24KieVHKIubZyndWHAG6pYQAd+xm4QcOoVY2iyjBE08DD/8sB2ZbNKdo0xCBajql07wxtnko1/VLlbFSniqB/+begABxT03vnnd21oDJTlnkDzLootWi8vLF5EoCJEjIqQ1sANrVaD+4pLz/+LAklTGXQp/VgX+pShKdUwS0W1T4XT82xpBq3zFR24HlAu5j9BKv7kUQtIG1NUmS9eH4oqEk18zAFD8dQ86g1kYfjJY+4HUQQscI/VvtjQjxZtqOXkujIAWRpFha9PpnRSFlt3GtebAwgpn8cKtbewWiq+gFII3OqnaL3cZCDMok3JpaoGD1MnAX4DtD+2fJwAxfv4W1jw8fTiQqn4wTqr7eD3b5XWwEWQYTlTograQ0Td3JHY1hQxNrPXXJMpUfGZSC3T10PUaD0Fme620H3MrTHejEfRI0jlXmN771Nup8PatMFp93pdRjfIsAYECjNEsxHkB08C8mZqYubZ3P3feIzkeTf+1hNvKFgcaZlKJaF0HyJYUl9hBkPJY1J5fjM8prIyqS145R9eiX3Xut6FFop20rqQQA+0f587tDr3dGe88ipMBZ/LdsSmHRpS3wqCty1WTqeTQUSjKGzzXumAMhZmfg9hF0/xMqE1IwseYnaE91YYGGkgDlkK9wYZycskDVTlbEtFwuhiXRW9ndsAc4Ni/P7xazHPfhrYcA8L9y89OZjErAOZCOkQiMdB0lDBAB7Ea2/9yL/ercTDYyEXOlbANYqDaSo1vfVFKPfL8NtVOfQlfz1hDwevo7xW5Ruf1WW3zjMinFlvJ9F3FXwHYYNHb2Nsluq5EX5Z6Eog59rpH2ZXZsvmZieVJ5bc7k+HtfhCe5Fyp0b0nA0UpA5ocNv+gKerD2gq9gwlknMWKpOMTZG42SwZ8AuqDdnEgJs+zLG1fJt1YLxf9UVRQnLqj8LBZnf48J1yIJcEKMw1NU9LGHSVhkQ1QyfQXfGFv9JAKiVdzXMFQR/UFdh+vQkevfQwPOPZwReiMuil7slTyYCbd0BpIyPQHpZzJtWqs5FN1D3qUWX8xhq1A1OMRGAnm9Ph/uMjvrfNcTtkI4n73fAnd0VNY3biYo8fPI0GQ1I4Sza7CMt3izJ2HjPbKDkzZDyWLFeHuAZ25IvEMpeZEa3rxN7mrEjKFQVNQvBmabd/XP9cNHOM83LQhb4HibdKEeghS1XhMLiABIkgxPaz9+Lw4r0gnuAmC91S4Wxa9VVLpdPjvOzDaQ/NgafQPfAIjgSsA5DA0ob2pxwknqnvhRTqeMErZmDv+yss7BkWuFI1PUpPdJpu8sRxBL/bEwxoISLFUDbpzecN7L1QSvT7ltT2VJE5hdjFyfmkmEw31wALrOQWm9nEv7Y0rqEUdoYfJ9MCtMa/CIE3MrFns2B9T74oiyyVO480bphpp50PmUZR/aZrlELqpDlprliL8sVUHwpaARC4s1QPS4ewWTKK/j3PPtg9sUJCXBNJjZc9QKFh5MIoePH9fFv96yPt4Xyqhjb+2vBLyKLrPGawJvtYlAMAAKvMuvb7yfWATlDvjaRn5xCHuiNN2gjP/870+NV5DHE+aYvQv02R717Vc/ob98S1boeV+mJAVvRoFLrmN34TvpLI76RopL9Twt6qvZKtIPHu2uc23AJgA970qhbkDcOFqR2QeneXYzVmcWgBqjRw92NhRmYknLz7E4MiNm4DaDw580v7CPIJKWQLyqBnXFU+qkQOri8nmqYRbUAFe136p+RExvIxNJMegThz3eRLQJ+VC0syt8ZEjKvrO6uXfh7zdnykIEH4TX71NlbR12DkrNgNdCGW5jehxFyJy2aUPByqIOpyajmwNBQwbfK3wQWUbv6cfbjVX+71rd0879zXcvSkSVvweox3GwjAwwaecKjjwI8Xfi79xLc8B+rbpfOHv3FfG7623ad0trZMaoX0l0YAI05JBAL63mRZEVNDKu7XMST7vMo4nWr5QME77YQCcK9iz+P3Fl0U3nNdD4sXmwkZomt/7D4xCtlWQ8pvUhmXvzCRAB0eWhcy3QjIf3OAjsLBXBZYDG+OudzFnQIga2jFuLjbX1gPAzyg4coerGq5kjON0RNYgW79N6OI/8quZeUfeJr3Z7/oH91O699I2mw3IeejOJTKigdAcF0PiaqNabbY5juZ57+A8ypWcqPn0hIBvL7y8NfdrX5hHdw1Oz/1iyaJKxaFf5F57LxxXmDwe7xKplEO+WvfsGnauJgcn7pyJGxJs2wcYxIPYHehKDsck1Ov+iiY1/Gfq58Aq+tp/S5NGyDjfeL+kzHl89wLCHQct5P2hzGmQzl7EH1it6eBpv0a+rTOWYqkc7EO0BqaI0ygEC7+fSNTImz79HdVajIjTBh0ZUkw2afIsFbrZxJGpgI/docXGwKkBa+sDHcgBqhP8HD6qLD+zTBq1zUUbAw5Rn3yVpR13E79hdfLhPZYGwxEmLaFO2xw75GpNI50uGvq4FTwwj8r74liwPSlhtHC/oUOX3caTtlq8R7Aiv/w8ZyJvJ1Fyp4+ddUh2/a2fDOS683mwHMKRQ4Atmd0bCp1G5zbO9Vs2sXpHnPyuVFzFphceRJOX8affCFijR4JVD+mroW9qteTzCc7x0L+v9kOvnEQW7kS6/GrDOkL6I4BSTEkwEac0qZCDN4O9seaSv1ZMmmy6KXuFHE6rI6i6tWEOOhI51Y1OqsTGyoptpNgcSAoHOribKk0YepbXQ/ZwUHNWoZTJ1BBU6KNnLnwF6FK6XaXRY61ZFYAykDdClOrVgpmu8rlQ/6KqFxzlNVhppTvfuUDdw48wy6dKKfiEzbiNdczkITJn5QPJKJ1kwb/VUiuedH+qGDtLzve1xe9POEgUh6SIXBFE4q2MvHBKmgHcw0PDHEMwdCZPRzxreKJykA83jKGobIvWnxq/GdKbHZpIctv6JGcZZSnDhq4uqdwI5EeIt647Z6xdeA9leYVNI6oJZej2tHRLRXAg9S3HHoBCjjFfjLoeZXwylgcJr5L10bT7kFczXh1vDliTjoSeqtiY3MlZJ7M2ZgqFK1dmQr8U7xDsv52Etbe47lAtTj5npsmIXtBOrKbFMTK/6bjni99tcCsbE/bK4NJI0byDMjANHwYNbxlULVpGPY7ubA13ZhgX/i8K2huG+jA8vdzp8ELe06alWHtudyGcHUNqDGU+13VaimRivG3GYj4SIrWY5+fvgpQH6M5UU1sv8xY5Bh+3I3pkF4X9zNib9YGkeMB0sOa6a0rFOuZGHy4WZkzj3lQkOid35qtsEw+gkeKRlxBuK/62Y4FENnb+P/2KPF5GWz84Pk86m7Delqj/5i24z6zKMS+1uV4f6apKHcByvMD7aqi4/RWMrAAADAAADAuAAAAMAAAMA1OlRhQJfABzRJ1LB68NtFX6ulXzlg+iev6Svp4XnAAADgEGaJGxCf/3xAZIFUp90IBF7CEkSlP9uvup7cVzgc/qkV2QYi+N6WDy+sIQO6B/yDW1NTzM9nkiKmz9kzTlLxXQAci8s7fiVdh5fzKWsA+v/YLD21mZcXjJ72cNKMZEP+zIi7Hre2E/Y9d77cCXaryJM5tXJCjyv1+zZ4odVIq8xGhznEz5BUm3W7DSLhWW+LHr8KCh+fmyJcJofSRFwSFlpwXkj0aGju/uTnsdXpqNrZ871zsiicS6JFH2naags52PV1ONS/xX0FHobSOgIWx0DIFoxHb0g8WGsLHNIgWtPl9xrK8xR2uQmv/wSv79Ak4PpK0cuDUzujZIYkL9+g0Q29pAKiRU8LPrq7iuRIoHMUVxzTscNaJtGlgA6BPCuWOM/M/FR+IK5nf7Zl0+kN3CeYeZSvIe3UoMPA2s4sjagaAyEqbG6/kUII2A5dTwnudD5V9OfNcTXrXcZ5LDo7DihWEYsx9oJuGYOeYOnwKkhJVyColYdYf3vAeIrcIjaPWAQUxiYCLkwjmRlzKBFFOkvLIWaWykZ/mF2GUisA6+WjErg5bRN41yiPJZheeaIpwatHTLymdZlvcMnctoULjLGAWO5Enxtu4Fn/az0FrgfZg3Winv1HQggQr0JAumjm1Z/mtIVQ1Y4be/fxz6y6WnnVHjspv2CJrc0G0E/dcmh29PARVJIT/xeWG7t19by0GZmU7cqfafwmkzKlaO/++2Q01aW+AF/4QSkstmbT7+QIH6E0nLDLAz/nSkyIMlXgHtIRKG3cL5P4C+M42iOoqHel+AVIi+UpZOqn6zGhfsLCA6jYYt0WmOyw0mQZ64J0ua81TjvNnUNunXEE1dW5mcoZ+x8iHPbDnlNroyx7XlCY7s6ZBqd98EWvzqwWSv7cCzc/9+fKB2TYZhvqjoV7WoA3yFTBgzC2NcH71UOKgXAQO7n8xE7ywyBfJGMxZTsR08f1fRDYcMTjd0VzKiybiKbT/nJqOC5o2esR8AFY4O2x3Dz8ZuMzw9nNkP5mwxqs1rHPWPhXopFF6fWtKXMqe5CCUSgyZmeRz5rLxkAvL1GsMcGO7+m3yr8ZXIFE8hQQeDl6UraFgetxxQ73yitegku36b5/3l3Ri/FRqVhAocHBrS8X5COIIL/mDHXukDPIhAJfvk6h14Dj8U8o+X/opOLZ2+OqASFwWoURmHUiA+QAAABs0GeQniEfwP9ojEIWTXjhIkzpSu7ls5nKg4qdsO1OSzlKWMbk7sVQy4F2jGRBk+OnYVgArshYHv1FPz3xL3pFggPE4GIsNYiwsQBob/ogSekNBtC4c690E6Koys8WM83JbH4OYKls85QewS9N/OplnpqyryEJOEPM/VBRuEKAOPhuXB+jY1vImWoSYg7OVl1n5F1kXVhhB/jT0McHW7hiz6CMiUYzo/UDe1pjJna9/p4E98xaxWsEzyO4jDUvNhTwKHzJlSHHl/GcbMIWlOPkoucsfY228EqKWydp/huxEiycEatNtYoH16IH90S78sZorGzB4pfIRFpao1WQ1J8r2yomHdjAk8Gd0qDhl78Y563hJWF2VDAQAFuRYfkTHN8HalqMmwRN18YMJQjtn9Ax/AFb+s0KqUv8vOXL9pW1Z5DvZBH0MYMcm1ojkp+df2ZdKmsdHMr+rnhErfSL7a0pzQrdvEb/KAecxWbyfHqMtwziUWGZWmu+L8+6TDu9N6yci8gm2Gi6RW41epwt7JvJ7SPRPysnjqPYhJrx5SJBQAvvn33YRL8Lqs2Yb3IfVtwWkABNwAAAYMBnmF0R/8CSsPHjdvw/ZoUACwAeLbTAhAxln+rroQtVFgaaR9jJg9h2d5pnddOH+QfTlf3l8e2QZcTu5C5XIWnson9PBQbdENDJdMla7FKWaNRr0SYZ2I85Y2Z+TQrfEtlUUdJq40IVm/1oXkQZcuustOpoYctlW+JC3KMc/lRpYazCobh+3RKuFpvg/q+DFpNdeOIAaqgozhd+Lucyq16OAX0X3H944SoB4I3CUwIscx7fsxxwANum9n/wCq2x0lXA7Mj+cYAbySiWAKZI+1ggWFzmo2MnrZmHEIeMhYvZYb9IdY8Dv/67STn1tpqxR4Xh20eIAFwCe32FXPu0e/9Ac3qAUxTQj3xiTFKvq7MKHsxtOadOneOmIUInMSVSQee6WIn55HRQoaJ63gvnWYvI6XW1+IhGGH8t00fzw8QfimCxDvGsHoFBIBYM6+8Wna6GvuvQmS3T0XDpoPmYr6sNHt/61s2IiNvOO07Kgc8QhrUubG3NwhJjTw9YHIomsqoDZgAAAGVAZ5jakf/BjQpbjIahHbMliJMxygAC3AFVed4as9dr3oth1etHz0WqkiAMNCxiobznWR2mghcivQFaFhMQ0LXMlMV8FK7RYxNW7GaAqYUHZboYLCONpwgZCvTIpkuYSwvTt7hnM+mUcOQ4wxf937OcWKCcsfYgncpSnSq4wXSNMz/IJ0TiXms4iQ40Y/1EXoBO7sEU6Qdns0fZx+p32j5zUftBVBeknQE6TuKWAEKYPUL4ul9gzrgrJTsUzR6+JfcrBPdwkvPiQ6qPo/vVPsTAo1V/kI6y+UKg7NWYXiQv+UJlyfX1GH2suv+h5opAEX6bozXlmQEmwDuHnT9XdQu7RD/aDQfrbOcNdS5Umb0w9RtliUYlNl8R7qaobCxjNwD0XqIeHEDVC44WaICkpQhHzvb1jHIrd+tj1Cs1PIYAx4FS59rcORgaNrw5v08wrZbZqmvOtWfsFw8HK926xMMBX1ih0j+Ng331AeXr5h3C1Zf3gJa3oDBuq2Gmiy+8Qao+9yhE2rPg7aC8FJCEb52dhW0AAQdAAAEUUGaaEmoQWiZTAhf//6MtLdYCjPebep/U1XRgaZmCzYxZ4AwGmACfZYfNDrbttJo3pH+42UOXxWpGTgaY/RxWxq+JLadw3LnWXPL8uacvqLXM+NUXTG22+ZqT73g4uYPVkWE1sroFsRtTBR3u5FVNS0CFPkPxx8KqD/Z0y1cKcRAmxi5JFt8aQ1/xyEmT8bZ0XUTkhqrfiPDShLfXNt1TfsZv78Qyuuy1TnCIFutSa5I+k1rQmKIpCl+LWjx3BCE2pGRwKfutGdkujrqMl0mrTbUUHq4mvhfuQmaSURploIB1uHmci+JJYoZL5K5g+wDHf1B7ePtoK649Ix3S+mnosr2zNfifRzc0ThaoHU3MYRqWYulQKtE5sIMhb3Ka98x8H/xsQAjHnLTkrU2buTSRkL6LFiHTMHciFDkBzgfl+CdWzm9+81XheWRXCbwagMWDh6ICCRrQ5/ENyTdHfrE1M3RUaKfp22ZJFyXrfSf7PimEAfpiwEr0//yZtiD7f2QOOG4uj6pMWabei141l7VcXAcDGxWHtPEcgt4vUKKmxLcSg5o7P713Ed5MlFR81ChMYedfDDaNX/8IQO5+MJQL+iApLq0fADV2HXKaj9VnJTaZbVCjMmAMYEYIAqYaOaVGaYRn1MHLSZeUMuJA5jRGzy5HJfwPWxDwvN3tqxPYjPBUGin25wcW0OTLuas+F4cYSA6JSdnw5l0AgmqRX5dEZIfWOs9fTQ2Mr6t1+lq5HJyuqehoIoMO+Rhf/Ez7dYGrtxt6CIKRS+RGedq91RrA0teE+Gw3ZbUcyKEJjHN9IEZ7z3ufqrk2MVoAI3/CiDksNBhnYCNkJV1OSHA6O9pOpUa6Xd1FxY+i0D9/6gP99FLz7XE1iWlS7XobJ4j1DtfgZGfOnQ60Lsf17vrDdrWSWyG8KZBDHk8hmkzHK0Y0DwKUVCyo8mrXKgra9l/VtUnAdqEZvDoEeaFLUIDGeTe2Tp0znydVNsXh+r+EhOAt6f9zpBlS9bsBab3g7Qx0iU7tXTFG7wFbi+3X7Hm9AH8ccmNqw7yAUbjfK6nr83e59D52UtJoHZ4kEv7JNYOT3QYsVX4b2nQw6Q7zUTt+6n8Otfo9Ce3Tp+owdM3tGzjKXiV6otiWpRvtnfZQs8246vt9cNb2HqfpazAUTDFt0c0hJpTpmnDX3ogCIlIu3vhGd7sAqWP32kHnipUYFSXbQ3XvTaDOTQy+u85ypC702djb6CmF4itvQcuLtcoGuy3hAVySNu3Q5AXXHrflHiN5QW8NeSYbiIn7/JXW37OpdY0stsGtB6wL8bSnjvSVXVIwKEaatXEkVe9eSlVQn5eDW+OQsK78KS1qMrTENSHfffbV5y+7QoHPDy251cgUkiY3i64BYxkjrwN63E8KWjSdwDupiLTsasE/DxBI67ivbTsL3XPBJB5NwLzw3bu531GWz2mOBffHSvoABm4i5z1ylXwu60AAAKvQZ6GRREsI/8EYx00j6e0/qiNGEkMHskyI5OWT9ajKLGyVaMZMKsSA12qJUYgBxu5E62zArseDL/Q1Yx2MB7CkOqS7EThfochEyDaC4UlJkLHZGHAN376alCb2uxZYTxpJxEmq89UfPLf1ae/2y5D4jMid9H30RXA5l+zKssn7Q4ywZDc2wAJftM41Xg9B3+jHL+mWqz9Z+8x/ihLaKxDwmHXSrBNC9OTihbij0OBFyWicIxae9952Tt6ymqnSHTzCIeAPz60mKNBuHpEqnIDOskI+cPhe9VL13pL/9FfuI1xTpBak3sIE1YAbovC6K8V99eU/9GoJZhwLhfI9c8T48fDn0gzeBAbK2VEikHpUR+nrNlYJxXTiAABu9KboX7G/godR1JeD4YJY5Y0uQ+KrNSCY11zJuGYOwumjryzobT5uGLWXaJjx1xdjUbBA3bNfSN9a+aGbsFqqjUxOGFMe2GfoCoWiGX6z/ZG8sH5kPiXLzr2LyVPWseBPCIL0MFum5hLcnhZ4y0vyXMtJhnMQNJ+jsiQWzZNyYW02Ydy5e368WcQmQsAm+bPZhRGEk9rhuQxHh/XH7J1a4yqHQbkEMzggWJtRjXsAy9PA2Hf5n5+PTNJkAQnQjUKFE2za2hLHGkNX5Pvt9RtTtpw48CJPLkOAp54/j7vtrgpK33KeG7lLuy/mn2CjqyMIwJrWjuZOnXjCkqF1r6XODOfJDtfW1D/iteAZlZ3cv0y7l3+WKWZF4zgJ/83OusOJ/9tJ0dV1RPmChQ4TWXA50X0iTKMmXqiou61m4Z69i3amRXkPWL9a2lapEnCH79ON1VTu128ZqXoSbnmcvpDQrp0Gxeka3z3HiC3SVcI4CWjox5igCvO8vch8AXPCYXwhFBtdBrwIHWU6TkSsXRjhaJ6gAE3AAAB9gGepXRH/wapbSqqtmAacZXFoglmvAcIkgVGSABK571uO5UXZlrbxX9So3i/wCtVS/pfFJQHuyB2QVkl4HY4NnoBje364NDJm/QPG6RdVvyg3EAwCGKNTYfYRU7rObw+d92ET3lxDRLUDNnnKtR5WTn2bLq8aku48iyu6azWbKO9zp5lcPRsNNgea1VHUVSFJBLdG2s8sM/LqlH6idTyhx4hKazENzyR3L5xOvmZUtsBPYbjqjfvCtSyqRijH/EHif1XKSX+TeNmqSPE2RZa1nDsgKOvswwb4wI8QKoAYwGSFbr9FRNK3WWr+jHY88Z3RiyTLKayK/CtcuJT00gCJimWPgK/digNTK93shaO+f+4mQAvjwEyUSqmE9tHW2EX55wCB10VfC035BSOmofMzDpo9tBG850Mg0EX4TrFG5aMgtp3FYyWaQtoC2RG/mzBHm2G+ycRWAE3ba1jruwIc0t4xkYWYLa961I9DV6c293jS8mpJgh0zacg3AD0I7uhRfkexJHVmNRez0iij9bBbp+z39+AxzUOvyuL2Hz4rkqz3A6c5fk/jdHe4IGvPm8aKNXKYoG2f5KttFfa529SD4eBZDz/tE4lhvITzPuXjkJyxoJbXbLu+XNF752pJr9A9bQU9MjuDe/bQuazsCPVmHouBAAAu4EAAAJXAZ6nakf/Amv0QhC7tcb9Pe/cfoAXTykcFiQO8yMtkT8AH9Cxf4uVZFE0G2krx79MH/Gum4zBPYVwwYbpfXWby6egpBh5RkCz7pMjRucrNnMriRJXBWMtl+H6m94fFaDZeBIV4MIyuYApwX87+slzu3hotpBpMmSOGD3gF5lU/vF5se5SOX95WS3UrYbfsypgP4hMT8X4bLseTowK/sM7wHyUtUEyZwrWN5rd2WIyThrtl3YobjIu/AgmokSsjDhSjPUuXx7sLeq7IhWYJ81xLcbMXidlNzriyO3IHLvKyr4i6L89t/3Nb22IkKDr6SYu1TfIl50FC9qbebh8QQ61kRGpfN8KOOtUsyJ5ZASzdifQxwmpiO/D6b+0wrkktuTHVG4vyIXZsCYPsnft0/t9Gk+AXJybSR+iAzA5lDPftPCGNxeveClJ6b+LbDbVLVbSP8+ry2T10j8wrRKwuF+NT31mzInVc31AOoelcd5iOryJxO7YnnLV+5Zsij8lFj3N2pTKbNo/LM3OMQ6t5izSrB3VgVGqVtSXrfYGy0eOJPF0uiZ7yqPKGRCnW5rTmLkZTlZnOP+9a1fi8kon29Hrrfrqee+tcFsepLVKl7V+3Zhj6LEHId1diuwIqSgW69is/JXaKcdr5etJ7d1nMjGYse18x2bl9M3mOKHNcPRdOwb+DHNnPxw9Vb5ABaL/2se7lvRLZ+Ub1EPoLo+/d+1H+S0xYsRBaT7AB5IDgti878z5KQBTElUvN0nxOfQtIhwRj/gd5obr6pInQ9iJ4C4ot+Fe3YuAA2YAAAQ+QZqsSahBbJlMCF///oy1LLDirN6kPejzDMuTSEEGifvUhb21K3d5pI3ztYFNhrMjrwLF47zPaZ+/hbJuWNcpIByJOPQEnF3TK/a5acrcO7rwXBW/ZUhzL1a4W69sU5LuDBw1UEJGx8AWknkiyN0Dw91iplsf6gB79K0R87sSTAZdjZ4eMllxGw3h6BHLyynt8LywieMWaH92PniiLIxvasH3rK7pCq9r0xCn3wn9V6lzHPultV9k5IHVCNfl6o2vZcVG3yUlt2uhVdY5F89Zmm5aL7NgYTNu2oB5fma+lLIfOoR56C2uobf+5fQUWSXFPvlkPQqPo22r++H9iJtKUKYebW14BPr5XpA4dqJ91mLm+oSjP0Hu+GTBi2wJUvKtPQ280QLHV3ijvcoEKf3PwNvCSsFq9uhNihlnBM/BHWwCuRzbWLuMzLenr0K5Lum7tF8lFzO81/+8CbCvKJnJvcosL9PvuKSbvkaLB+yQGT+ybMKL979h1sajrTnG7npjTbmC/+l8GFUPX1PhkGHK1IftGE+GDRdbL47+KAAZlkgCIg9MPAQb4IbIJD7RVw7jhslf+k1J9baxfZJauuFeX/fAEJ23MvI4unlbrOnbZcKOLnu2yJgtg4j2vEXTwW7u+f+jHOA4vbXIT9x3uBTHrZ+sg2Hr3dI9qrttIuBFjCFCSUinY2sofHOZGDAvXxmq96r1Z+ArvII/1lXIdgAaFMl+xDQm7Nc39cXIH7ShNJajKgQAYtNbtZholajdwemBw802kaRPWMu8x7dvQz5xNmDeHNuk1Cs8D7SeEh2tMm5pYaifKw9f4c3/HQ9gVYBfT/C1GhwZdzkyqgPTt5yQ+8Sj3a+va5M3xXqS3YuTJszxwyIkELFcAdtqyup8+s4Dp+zx5rChhZfQ4uvyBBsZZRFiY8p9A7LPqTfKVDl9CyExSjz8Pql1Oh8KbX1nhjaSspOF/C9wthlzqzCjpnkcQazojD9c0I+ONYqv65Zj4Y9jawfHkGqPvTKFEwTJ4nKbX2Oeip2w1Z9RZN7QEBkqwPMJ6GEOpN+dC9bjsZtGxF/KJbbYNzHISCw1nYFQbVgiakIjrR29ZYmF/M1I30lHIS6fqE/tNOZr6hMWvD1rkd7b0oA+7HFuNrJZdWkPEX310yYG3kcoDcxw/n86IF67Dj9CCp/grfpAAEt9BGtv5AMzP44Q1esywSUpc2YTaWKiFDKWRfqYwz+sQS60VszX/Axkkzys9nmkbDlVgoh/9W3XhWUQca88acY5EUsyCbmcoqYSJB3qOe9i8LNoR16K0NXJy6+d1xqt6EChAq495f+an7rSB+rFoZVHjUNX/9rHTZLPxJ+gUCSJWEZlhb7X6/c3wPJEQruWGKcuoxptJlDMKalJq9H/p2BzMeAB3CkBrIkyhcd6beh/8wAfBKqYMOmhEGGJCHDoOLEpfFCAAAAC2UGeykUVLCP/AYjed50di1T9jqpfh/7IzXeTQaL1MCp+Ie+EDfp2PgiY/OIWoq09uvptYJvQBEP+YFGvcf1Eu03G/b4fb9ZTfT+Wb1HCXHpBQi5k03/NuHJjBpX4tjbrRApLwIHApvf3XL0s6W4kqzUi+0KKk2wjd+0eeMemLiML1pSEPBXouvNh9aYa4tMoX7ukbkZODf6L6g/zD1qKO++ZqM/tcuJHGE14fbZG/ntu9uzMPmEleu6goXmCq+TQBO73Je3e8qSkyoX6zyonIGaMuNhs8Q5haGt4n7thlrSssuK64aS8xZc0KqNLjINyfJlOO+w2DOIkTdbC4DHz2BrfEwy9sr+zNXT9tCjFksS2DKS+rNM8QqTHlS4TsLOCJQdNHWkI3oiBP2OG/TxwoSQJ9eDz8jYV+fFYIHpI5fg+4kRGY2YvrH9hvZ8ogaKfpT4b+9A9FgMeNlc3ltmWZh71iYtElOJ1LxllLOgWBrDG3rTXNxBf0W5NsZlb3g7iBahaAkDNNTsnUXhahcn6xBSLerRF/qEJNKIvy7sSpjjAKhJhu3n8yfuEFKHxdUvHWIKvw6QslInv0X8xysdvY7Osp7kk1hMvo8TXEu+tMqWUG0TTA7y5c4iLrqy7p6KbSQOpi9pWDVFSSbrsvk1qljDhtPt5Oc8htxAL8q/PPT00RAJTewbazEbJdGBdyJ+6eXFlkDoTpyKnrndzQHNvFCKlhbAsptyKIx2KFy2+P4qRI2ACuNxlulRPCOpr0lpk7sy+HD3yopIL94z06Rn7t65BULJVoqHLnGn5Wwh9toYGuAA/Z221G8LVNmgBGQzO2PxQTUSgM6f0VTI6ZXpr+v7r+sj82pNRTSvVHWP4AnyBTFboQz2Tb41kDoqiOgZ8+h4vY7X6og5AEK6i49jAI1bu7Zj2MLejXF7p0rlF3nFYCmXTIzERw72EHx2ZozwKF3jQniZPNAACgwAAARoBnul0R/8CasfcLUdrOVRISbkt8l+Gifu7tnFIAPbhdBVS8W9L68xeq6X9oDZ/sBXAAA8cdLAMICLL5+Rsiv8H8BbPzh5VXwJM0tiNQRjWipZADjbi1SmTuYmPAEOQ4tUFRNure2Q+u0cl6ZEJ6yMB8RcB8phRxoJcrE4kIJa/RGbRI7v/ovQ38cjoCS0w4n31k6KOeV2TkWKfp4X54R/oBh11B0f9K96QciN9OcwmcldOmv3gs/unES4+n0josA7tS9j8SrcMb3zO6kdA8laxyF41LxqXdX4qhLAXGzcDv4TND4dMuL6CHzNXyptMUs6mGGHHHHFknjYOm60EJ0BLkGMfDuHDVgE7AWwN2vV7dFDnwNBD56AAWUAAAAIvAZ7rakf/AmsrT3Iwc1gH7dxAF4U2go/0YG72k8FM+YYVuLxviN7r9mgBKBDe9tlkG9VQwQe/To9aWckMPXZe3v5Xn0Jk36q8bL2VneQTtvZLFIKjzezxy5cwNpiqOvpw3pX3rFKUjsFz11OYl7f859VjMBajRtuKi3Qp7fueRdxkmsUV9sHdMIj1H4TsHIwr48ovUtM6eXHyfxfzcVv+v7lEPZitA1Y40R5wTsYwCb7J+DJkaF35IvLbEPIZp2vvDPGoJIrsUZF2iaDNd0+byITrYpp2V38lF/8eRXq7f1SKLanoEO0eqXrj+mZ2Iam9xdS+oXCQ1GyESkRK8STAMHNn71BUdvc5C+nxhaKC3VAly2dzzHcltVORRLB2ZISgwoVNf+8m4mgMP2dde4tNWcyjDdHedHNTydyY9RkNo3cUYInC0Ze4MSLZvK0cbhguoaqQ/4xb+Gkeaz51U+DwC0CnipRjXHRsPb231paRuHDtb4YYzDg++Ve+Q68EY088oOFDtAZ/VPpX7I0g9y1hVtCUDEyk2M2WRPRE7d5zF/IOSCrJYR+2rPKBAVEPQbGE2dS8XPRbjta6aBkPpDICqCQysqkHP3z6RXJ0byM8IVc+kYyeLMoD4wr/c1D1PdpdYz149CdQfU4IQa0FAqrh25ecJpLAbV72NeB7E/sQA+6xjiV459be3F5FQs3PqjUlpDbu4vX/hHf4vtaOho87WcSJL7hYENoXsTvPpACpgAAAA2hBmu9JqEFsmUwIX//+jLTQVogOIg8fcRFVDqsdvPh0D8XkqZSwiuMAzE7HZEsY9dBFZOKI6dvKnXgDEgyzgn/wdrtlI+tsII1WjkRYyq8/a32Z2SNBsLW7nq1Ti0dDGh76KauSe9CTct3XXJo0V/enHyP+vULxc6uWc6MxrgSWBnBpP4iPAl55ZbKPmUz/mRsa2xD6OSsCvMFO4mlNJCzblugQkYeGBz1DgCw3AqsdOr2qGpxIPSNs8eSduVXK4TbEauZpfBZ3LX6tc31UAsi8cGQW6RGZjN7Ubam2NHRbFdA1C6iyMdyeJQD7wwD4sEVDdqTJv6kcKGUnjRK+hR8cpWTF7EWZLw/kZVAAA+daumwVQJ57mj2UgaSMkEgcYBxHbWv4JIVNKToDhsT4QcSm45h3tcZ8qks5+V401laOiaSTbkxlMaZsnVkSA1jJLOJSlsg+50XQByRuKs+ctpsnssvLGKTas5wPTCewORHCoG8tmY1QKxVBrA3uz9lFqzO0XkQZHYZn1Zwcb7z0eLIyU6lV5OWTil7iV9DenrszN23q/GQUvmZihfP5yTjfouWNAuxjQJBVdHXl/lXAo4hjaWothg4x+DXqQDhYiYivDaRM1l9MROtIAdAikWWs9qrvqDXxERZ7mL/eaicTBuMQ0ysHWd2Cq9qRnpweBqg6swAz8MrkWrbu3OqwVDm3dpP6j83kWYgKHwJkCfMEpC8+NMUnvbpBENDFyzdF73bnbgDteizaVxvQuU/7q18YJteF0vYu67oEQ1uPaOp/nh84dhOoNbevDqXZVL7SEKyYkGJTWMhdtbxE+AvH+4q1xAWz2oGlzD4FjU3rtk8VEhL3QK0PPx1Nu/DQoLYzdtT3nX+PB2XJrSITT2no/lSSYM2dA6rMFd0hwvC1Oov2HYKBVZOin3mSpQaq3AUj8ZugD7PESmLhwBB6GMtpjNnlLlkZmMyVLTgjXJ64MOFQZ1u9qzsCyE3I3rs4DBlkVcEK6BTvaw6hfG/HF/RMEF43JyC8tPMmfIeTUOkf3Q07Vr/Y9j7rqd3l1f01xuKUo3L8No24jllVsk/Jipp53YxxsPanoR7nbaCj5FTl1dTtaN1gLlFv5UFnHkDMXmJySA7LxMKpdajA+xepLlS/cXPNo3VF+To4MRhkeQAAAfJBnw1FFSwj/wP/HUT1jZJAvSGgIVfBObIyhECSEC40PX2LThvWPbXCAC5i1nB3lU0Oz3kfa7XEoRAappBl68bZ9uPNHnoJ1mEHfI+bktzWA1TYlVGbxDKXXyGTP7D8/QsahS79mL7Pml22OchkTqKvmC5HIYnmuizCz7pMd+mY+FqeFLLvXzKjk+O8ub78SZrIMs54YcZv8MmppYTIpi6tc+bR7PhKO5/+6pf1T5S/4GEK959dMudNib4X9MD+o2btq1d7a0FyUIyOFmA+6aGQEDuOcd5tS9PAtkx0K/juhF43Z+vEONeP0UO1Z2ToqQQJK1FNo2QSJilXHuTNubLB3v95icQsITcyM17AQ0LqYDW65gbCfO4oUDmlM2aZ1NSVLBvKteUUasQGEiUe+qRkDFnZofDf0qU2Bq5zau9q66rxa5kiTYisfMfWxPdLfy+OdZyKX+pmd/00EoiBLQ/H0ccvQ7mQBdqz5VZEENbsjNUWPJqAnQE4jw03qNs3+8fkgF9pH7YJyGw3K+FI/6yPym1Q5wnoPDlH1vH8RcdHQ+umErrAIKcDTvZTnW1WHwZZQb714EFLAuGHS9DcNHkMFUZB32WqYNqP1phcIVB9sW2W3ADK7FzLrTPY8mZtK8pevYoxvSk6NRnU1GaEDkAACTkAAAFzAZ8uakf/Bm2d8PAzExRz93ruyWp7oOaxTFEk2HP3J5RCZlwnIn/aYASCb+Hlu4ge+5CMZ+eCfVn5thkEvfTakN5M/EnLr1mZT+Gzrm5aW7s51TTzBaYVxxuvweFgbS/TZTZWvObgQFKaGEYL3bfCv1hbUSqvtMYFxXiKZP3nJ4RqBLARsm4P5N8ZZOtwvSLOxxlH+NVCI6ss9yuPIFD/4iPrhweXAYq2ecRNtBb32p7338eyiQ9UmQ6n2kF7P0JohSUk7u8dEbEgk8BnwaOVA+qxTlJiGFTU1Ps7Wiob2Ctt2fWGc6HvLVYarzAadKTHjRWS2OzTlqNBbiQV+odWO2casLrrfvijoUL9WmWM2EU1WQGIsmK6pOclQ0M6aOHrDzlP5lZviLocrL6haxHQjBfau1GhQ+iHu38Ebf1NmE/BLhWuGFcNq8wc8yTMgeYHs2YkOtK77mIKd5Mu+8+jRlOo6d1XnrPZvugdT+z3ARdAAg8AAAHhQZszSahBbJlMCF///oy07RA0FUltlKpIDiADAnh/kBqQerehu482IkPaL35y9Y4qViVPbKRN0pIfnICsKt2zfq9jBaHZuNgAMZNBphyZDjaXpGxyqGa2xO+a+dWczmxTvDET4eszEroTfPx/3UNP0UEhh0QIH9YlLwe6XML9vOoSnRc2fFz8QrwrOMZodPJmAHiugoLf8ar6P6pkv7qmZs9upoglUwS/zP+oRUmOrVTZ90eN7GoYTXmqxo/HHBVXhS5SqzSMusgr+UM37R2bFDmSXtbY2EqIUnqVGghqksjiHDE345Y+F20QvmdA0Sqn0WNRsEM1OXQQz1ANfieTdOGRGnaqvz3bgboZEtRHVAG4tld/a36FXfYT8O0nh7+h9dKAkbAHBM2ZLg4cAuDNzkwUp3n4YastOmDuqvNruawww6ZcrjYt7ammXfJkCZoIgqmf0Pb2g0aV1VixRbTQEQNp/kF35yCsMN6hiyQHA6jsi/eANMQASX8Src9BTgIHDo/C9QuQs9AzN19kVyBib3WO/XJ9+IS2JZ9GDQkR3px+HAJlC5LEqR966yy4+zvg42oZD7xcKfnJOFiJWK701HKORgA5bwQKm5/DwFJgoIVWrznVIVOM6NAoTxDIEsmAvAAAATpBn1FFFSwj/wF1Cfrwuismsm4HBQQaWX9of/ANaA7RKQkFWXgAjI2XdmuZkUSZbdhkyHWuzS9TkYtzYuMC7nBuJNlp9XyIeUdsl3TqdUDCp71sYbLAFIzNdmcIxBKpCOdMNnYBT/eM4a3Rt6fKWOH+dn3SeD2h7RFf8W/Zi8zkSAqGugBGw6esuJGO+Z49Y65GJgUfF1gSnydpKN3Sp/AZWcVlQ9F65Kb3YRwHRWOY8syaDNAISfS/ArqyiNwLHJlvasEKMq6JIpBKscrRqtdaSpNuuUbGlc1vk36C2DJ5DAbenINfjFyDm62ub5SLT99cMg3JIozGyHyHWG3DXKbe8ORDHC+gIXnZ9Is4cfqdcSeawzrhCK14KZ2d11n/H7daZR1oZP7Tbp1aQT3ce4uNoHO5Qcn5cMAW0AAAASgBn3B0R/8CSsPUgo3oG+lu0UM/Tj+sGwALlWqpa3gVFgz5sgaYaF8n+6N3RxNlkycXMGGeCg0Zz/ukyj3vs667ScsBjnmSVXGTKAjhkzFMTDKTULdCZm6+K8oUSTTfTc+S9m7ntN7n8jrddiO7PzqnpakAmqKJz70cl8sVbqdAAgOYrxDVIqf472iSDc7fRGJ8T9jwC1HUvK/NG5nBlFDuWF5mCxPYK+MnIrNEZp+rHm23JQ9vjCHIEMwxaoHxPaRJka15XkGtCZ/qwP/0bm44Cn5pbnptp/5f1e6rtOzfXA6DG1b9kcg/A7MJayKfb7yGDXflAgT7GjCwEbr0aO5erth2sHm31NWlyT5j5kFtAumOBQz9TA6bKR0RFIyJnoMaJwQvdIAh4QAAAPUBn3JqR/8CS/HHT4b0NsPbRIjNIU6xRLiOAB9VFnhLmN02JvLvpSau7BdYYqDu1CMHTa7/+5V8ScTXb4ObDN/0QumN+BNH0u2HHrAGYF+04xBit9KobPuezvn9Zp265VpoTQ0quMD3QPAwnAGNMOQTf6ADvNCeSnf73gI4CVe9sE6tIbkmxq7UQIStadVNbNGldS07K/9aFMmS0CCf3Bh7TUT/3biEP1V36WZU65dUcccO+jE4EfeAgaFSIYbS+EcDudqzC2PXbamEqSxHOOOxrs3l7zV1hX5aidzIg5BVYur4QUFNLahG9mimddlgXYLchrA9IAAAAhNBm3VJqEFsmUwUTC///oyzckH2twy2R0CyalCpEG313J9sPgddSEC0dRfUBV+1RnbXGQIDhCmZZxckt6LSc/rzSwxUM3Q1VbMzekJ1vCU+A8UkQp3IAnkuWa4kLgsctF/w7LHt+QynW1yWuz/MwLeIIxbcjabgChsiK+Q29W0zefOIvKyn55+nCehM1Z5rHxIM+Hg64oitkEsv0i5HTel0Izke8DmWLQvRTeyOxQ1/6xTnAeGUD1sh165CUxOiCFPDQgouVe2cq+eGyBFpIcPVryyxwKCXsVv2BXBReabl+9X/muGYpq3vw42dau+Gd6k7uPfw4owr8FaHqWU4E6OGdfIJVl0+f0Wdcmt5NNOAMxgIH6jkwCB077eNqk6eBhZ1ul+mKcGKkvbxjJHs0IQkZjsBM6AvvSvvj4MexstOPFKSa6j+y+QRU6aJVxrKaie20xpHc2ELEQ8BClB4u+euyxyLV7mvfRKC4ohb7+6SD4NWGQBm9UXoz32O2M1KaLoa2uYJ0EHXXqNVS6fQuIP2oth73Rf0NGJMdwaYDig4n9li+7u7RBxJ0xmZqhQsO73Nmnle+likns7AGrFZu6xSeqWJNNDq6wTkSU+Ws30WYNTE25dYhRCsVM/i0tH8OennVUMl7s+CLXgkZOtrxalXO79LUZ+XEKwUmgXaEPptZVdTkh2p+C/hzLgdI0jEVQmFDkAAAADsAZ+Uakf/Akx8dSEYu6pqE0Xy53iue2SgEN3PwAa1toTpddPFnU76EaACWfGu91v1JeR4aRhvT+31ct766m2CwY9CkE1NrXpkx57RRJ9CHHGi20NVqFBVVxZArQG95R75r6LXTggizTG9z5s9m0j5VKouud7M6FUSV9CH7s0rlnhElO+TMPsT6rcEuzXVqcBECpgwo4X+BeQj9AVCRyPoUZXp1eZZC8bR8Bo9QSd+IwW0DQZtuFNbGCTqOapdtx+ln7XJlTCCm59v3IrEL0p3FsSfRhmuE04DUNhJ2Av25d5F/KO3cKvJ9USACTkAAAGPQZuXSeEKUmUwUsK//jhNHv8M7l/Ow0Yf6uu/LcobAqugEndtJ8/Foi8JSwu19njCD7CBQnadNPczmEHiKeSaS8L3FwrPK9yxBz5dX8VdY+ioLQYg0LZXxIARaVaFBKmtwXK+a88dONz70Oign/gKoIujbGEACq4LClhweGWC+nGA8h522yJ86Th8BExr5ufZmfvjfJrvDRQup63mQ/+tZDfbD4mvTWHy8KgWzdK7sYeUrGeeDiHY+0yg0YlGDSrMo6oFP4oOQVKe5iLZHC7W+t5btfskQ2BwiYrCqkrtdf7nAj8zQ1OpDxYNtGUKXnotQV6vL/txPozi62Vjl1BAbUSQNO+ezxb0yUxLvPRlcDOmcVbDXs8Wc1jQ7kREuTM/6y6ZiaHA/H9Q4+3nmKao1Sof9BvTtTf3oMq240dwxuFzUYukDe0QOJB2o3rgS5Jqg8JC0aUEEyc6jElSsTAxVNzuKs0ZCF6NMdZQf/yK6JrAASGFulPWS66KT97HvnEeu9PLnpBOd9WZd2eGIXEfAAAAmAGftmpH/wElkZLPV4LWP1sJ7qxLOABxYbzXWpjPK9DdDDv7ve6FT1rq6mNuzKUjz+/N1lK6wrqjnvq0j2jMoPc3wn3gCMxDEtCXi27xYWQ2rgYo4n/Wt/Zo/MidDweDwI6SQ0gz7doLhvDdpQ7KJyiE8PiWnL245OgZ+kYrmrsHf1grZFMXJACFwpnJkLZZ1Ci2At+KOBSRAAABhkGbuUnhDomUwUTCv/44QBf37YUkOoP/eQoDNGCfdlOmlLafrwYfOylmyzAuOa7ag7oE1VolrwgVpLxrXlu+rdJ4FxaGDPktDBIFciVI8j+dqHfC40VAlUFHU56C2gAA5p0NB31VVEh+sPwdEdfE/4r8zsQjXfJ9HXYcHUUtMP2SaqfZFQbdtGB3PYSscAKzdleeuGxwBmhMY5Gqdn2KpSy0uUMhbVM/FZjzCGOwilSwUOZ3e4be1XCA+1oOZFeP+7NauSLinxfkRjDwuDcrWcA5/KRAB6EISaOVSif3FLphk9LgUp0jbQgXFF3n2bq6DPg8q23AP/Q3r8zkHVOP8W80746cjAMm/MjARfcba0s8C/KGWXOQJgMaau8rqCZQd9l5MvVJcpZhY7yDbZ5HqE2x3RNvt6XRbh3w2AtrtXnoWEFnVLmyGDzQ10fCNY3Zm7E4xF+blWAd5+kii8tA5fKmWDWiUeJ73edR5BgKzfvofrH6oYfPQhtF91Vhsld30J+4afCi8QAAAKUBn9hqR/8AVlPybXqzScEWIXNSmKxcQfGhJefRwCKljf4AP42eiDQdWS2dtOeCgG7bCO/wzEhDiWrEr8jrxyxUQEY1vborUaamlOyeK/SxMNJlJihvKllyTp9uAPDTyfPFEXvpsbciQBLXmSFEFyxjFw8780KD1giesCnZyMX0FYn/JvDr/PHVeFyKgXfakPp4cY8asePi9dK8DoezgWksOWzhA7oAAAHmQZvdSeEPJlMCE//98SOda/K1Qp6UoMYut8Xq6Q71nanzd3jFoZcLvCvdrSePdcbiHRHrgQJ6WcgpExJrnJZCZxAKZ/H6wmA0kWZBlQxHHNkYo5EoUIAkK7ifL9pAOVmtK4xdwH4ecQf0ta1htX5Uhizy1NW2S/iTJttWGIeCbnAyzu1eYvgNB2h89iLck8MS7u0WSyKxDpWUDIEllnSqnrww1qh4e8iz+lMfcmltUexgh5UhyngXQFa+/lHlXafMq3uIIiX01cpnPEjufoi++a8JlghPGDNb3W72W0AXsiFzRT585Mw8DYn+QFG714QmbFHjIw3iOmhUOKz6zamLe3ycAMDfzacCQKNQT31zKjyIBK3R+EXvQUmqTYw0WhMvgazbKDwIz4+IERnCo6Rnotf7wCYAk6lDCewsTAUIF+9LhOyac8jDyTep4TUGUv9gJu/He7kg9OWzZvieXSxFFRsEqbMRRBhIYXKaV0LDYslNLthC6eAAfOiyf0MVJUGPRHZRxhcWQ0s2nvrqvnGS+OAWVq873pE4w8OhnQPMee7RMQGeDwR6Kr6HUTApbAfwcSKYyDjBYct1nTT7+/q1KvhkEj0mPm90kB2JqziMgHxBRVOx5ytVDIl8ysDky/KdEMH+J+mBAAABM0Gf+0URPCP/CpYt8RYecTYJm+Dwc+1tcPAAusUqqwLfmkdCgDb7Q0r2SzOSw7weZbJdkLG0TvVAwvZS2AFmiBEjsYzerIcJ65UtETVYoUoArTGON1LnYlanX3oqfIlPHcHrOZaucGMVL9nh22JQ2ABKsqzE1xX+9aEoWJh+18pspfZ8zaNmEovlPegN/2lbl2sp/D7RPNELo7NGdyi9RVAqumWPx8eMfm4Xx9FIKkBqZJXLCNjCLvps1XrN6hpobybChDcd8AKPgbo0PRo/vxLobUIzL2NAkx/t0/L0w4+/H1W9YctMe4ujxAsz6pRZPTnUSBvvDTxZtbH9w18Q5QloQs83+4MYH2acmOBOjr0CvAFpon8itRLEraTjU2uO3b0CthEjFaS1qucMjP58AAADAy4AAAClAZ4adEf/BvRm0VNMn3a45J0xIOgBsDL13f03xmI6rdD5LGF+V0YeBnHY0QAuVABO25a5I5fpywF3bEpNovycV16k2VupEqby2gshUj2yQczSzWzJtPVsoD/vlv4N8RIwsNlTHuTSTVxr9uhuJjJ7aKNtID1qk4z1jONVxW6ClpgNYm/kM/PDqrjxbiIW/pjGdpTXrvczZeRB+ErTEnlh31OIAAYFAAAApQGeHGpH/w7EnJMYCS+zWyFI5T5UZfoCGTa+ktxwBU0W1UgAAWz7WhKHiqoo3+9i8dHxsd7Y4IGybiMxXl/Bq08mRG0Viu2h96elDynmOf+gi7dv5y++U1ERNROB2umEdyjb2KNLleLnB6wsUaFhP4ukmkHYoAulRFrvrM7/C9wLanooXOMHhERdA0kq86k5Z1KojfZWR5NrlPcy5Y4Z6Q5oagALKQAAAixBmgFJqEFomUwIT//98Rq3MrWv6rsw80VG4JgytqLb1zF/kwHbLZ0nvBIGGdUna4qTM0N1BEjnlIqj6dJkKgMLso/kqCU6FyaIKPmisuLDRR71ElsnxF109DvpfFubNQTDTGd01r9n5z5bN2anba8Xy2OTRFCnAM7BnBol6eO8uIF4YGo2qQDIUFSfIh9FkXi4njjWYKJWlzAjafTI3ar2jM6NS10YH3EL+W7GcDgKLwf5FqCfI216jMs6fzWb2jZJi6IYNZorfqZjgdNkrq3qD9v+tUfeM3MXXcnsKbBa/5+FgWLT4QgM2BsSb74QVNLhyjVcyC3vD0lMCk8p0RsYJp7mWIGSl9QSNw0PMVf+2lO2u16rKSSGUamDkBcqZrE/5RsZ0XjZ7LxWQgIsEoksnZv3IXXuZO3VS/oiQWwS0ftMqXVO0ILDiEYOiLfVdGDsAOhtkKRxt9NKsV+tBPGpLUHnuHfYerdLJTDYU2FNfy8zhazL8kC70T9Hr77blq2V9rXVYayn9kpdz+pHPOOoOJIhZRZIX3I94lf1rzw46yvej+gnDteCYO/CTA0fvq/hOJEUxqqAnNqv9HRsljbPbeZFq9ug/nKLWgp5qO8woLzfX6Ez0c6Gk6m7bC8cHUvsZn5/KoFf/rkzVzHvJHIYKETxBoVhZ75KaEkMufF8xY2Yc2zv0GWzmKHUSOhKmhhrZ0raqfDDa7X8v6lp/RkMtRK7AfAlO+o9ckScAAAA5EGeP0URLCP/AfCmV2oi2ZFLwCC+VRn9kBZ0W43stWFfjb4OjuWmO03Rume8gz713G094JL80bIbcWVneDGEEACMjZnbyDCILr2nEJNrXGojkBo/tsThsYfraGWhw0ngiwSfol8mVz5HjZ9tn6TozcPSUeC9TnqrelGNlA6UNoTvTdcCLLuVQMwkMGNOi+KUhIOV0dH+q9elxuHdChyOdM/zRXWJvzw25rg6iKC/BEdwCber70hVpLK702CvQbSvOh/SrY3UGgx2xm6DQ4eaOsj1ZKOHsrOdDD3OjUS4jYVdq4AOmAAAAIoBnl50R/8AEVX8ROG3rUzU15elGxhzojxG71ZENoIEKjHz5+UUJNmaQ6AA42/x9SNIoR06cQQRXilsorAyGeeqd/KHuKRFad4G0hndmsfVYi6sM0pzS+qGCvUCAv8d8H5oAZ+aFY1mQOkAYyBYjRpFaeECgDtNY6WOySXc7+jYhkIFfdcrsD8QEvEAAACWAZ5Aakf/Bu+0TfiTumnT0FjQ5YA2iujOB6GD7ukWGlfYAhMqfk5ROH6r4FJhpr+vgAtTj5yJbCwbLbXFyWMNY4AoULwQ64yH0kNTTOiys4VHFat+F6F7FcSsiCvT1tNw7Jb6hatGcjXNJfQOllwEM5Z2NZ067t4c6ds3Bz+wxdPykAasPpVUriLWEHZ1coABUd8WAANSAAACW0GaRUmoQWyZTAhX//44USxXlpGhx8+A5wEoBG2I2xCYBwKwLraPg2LbtpJaB+RuWPy4JCSPzxz6MrjR3xsjxUhvNlHKHXaHeFTQx+XwC0NLGlYc+w+61W/t0hnROi59IRXQVLcciOAEfCZPqkAzFVlV4aVQI9knm47HvMDrZ2y1PLrnyLXqZECQgk0C2XZqOJHbB9L3aSdHJYCbS4c6kytehJkfWj/5ku4W0pRW5xnBrdSiTGclCF58xkqdqvAwJCnmRwpZ4Q9JexvEltVdetyDWcaMP5RmuMeu2SD5YCABteLGy3uNrYnfFR1HMLa9Br7+mNqTxJHjXofCa90svbOPiXhxnN3Xh3lLfdGUjAVkHTNEqBZGINPgfytZpkOcQUffKLRaQUJndYob4rx/t32fg49SkB4w7RwDoZ91jTbO9LnlhFQCcJuzxMhdpgFwWyu/OYCEHA/Q/8Fzxs2rqlRciJTWaQRSebvC4cjTby3k+1z9HEy65q1q2WEsPHWM4VZQBhqmFjcOVzTp3s7Y3AcEyZQpmCkXuWCJ/4AJPU56recsbByoRtscrnvvPPFPfyOya1MQ1yke7OTo/RaqW7FFXVBX2meSSlUb3k09tQz9lF2tKGv/BfHFS7sJrGGlNtfuZQAj5q+GQNe13rZ3oUfP9kKnUpgy1s+hmy/IRD9P7pethlkjPcIP9yPnMA3au3KDHVbbAFYO/JmpB/kF/De0CKJ1PvNKURcE7wQ3M51Fe0230byE04JzE1rGjw6dN3HDUp/ods1bqVI9AKhjd2Sw3Di/vF6FtHX8OQAAAPpBnmNFFSwj/wqLOraeEDVuIDRPCbLbV54m4pHQquFROU36fuC3NmdXblnqk9KBBau0yPLv2/aW5hhJLAblJBcDqtMFEsLe8zbDvWxsSwAjAc3WQOw5trozxKg+nuzl0FPeZxRi1U8fX/BX++pvsrRh2GL4ujopJsF1fNO+DZHul/vmESaSORvFxtEM4HDqpot7aLAuu59tue7Y4FApnHT0tQfUzcpRi9zvDtaI3kHoxgFUtb/U9TzVs2fFAeGnXWruN/jxm00RIv1PIfEzLieSDIdGCqAQDekBLA2+/dZFJsc39UTDa7Gk+131qlXavCAY/YYdss4AAHpAAAAAqwGegnRH/wEtYu48A8nLrcqrIqT0R7cCOgCtt0AXgg1QnoC6nemaBn7mVnI+NPysAJUR+CIZ0+4VneUHmMddXZ0BpRlt//51WEOfAbW8hm0WCexBE2pP78qJY+n9Q+CC0yFnUVUZD2/OrAoTVbgLfj5moOrFzGX/lBT1kveiY6mfI/iZ7G2wgFHr2SVlUBi2qwp1VlLNHTC2LoQ5OD5eKqaVzgNuvAkXBAAY8QAAAKYBnoRqR/8CayRxM6eBQzsvkG4Z+vC8sxwHIig3RPSxzNxQmLZgJSQH7NXRXvcK3qS7kGgV6kOviD6h0r5DABbgTwGb2D8YNqvGalHrQfLLKpRQ5zUiNZzf1MdIlWiR7+PSCx4vnY2kNyLS/SBy8pd2CNpOa639hbRFvV7RJWfUWbjDL92bOs0CGwrJFk4WRdBHjypIAS5Ch/gvPZ9ldDrgnDvcAAu5AAACaUGaiUmoQWyZTAhP//3xJCSORnV9SUwQz6cBizL3oaDu6nnR21Avd/ESJk7LTAo/7XmFW/A8ozdx4xXnv7MqJT/JOly8AvBnJJVhmw243MWJmm8GJrhb8sqRHzbesRFEQKc7/5K4dWcTuUzI2pHAmZIuOlB+yUjL5AACGmj1x46ea0/lI02bOKc1n8nJ8Q13xtq97MydCIuYzcHpkcPhSnvGlglTg1f59mbKMRjiltHjyTz9G0HhgAzq10Om6ri2CW9/QBYTmifWpmEjRwo9rvU+zbKgvugf/D244qJGBD4wFMjloDDQqW4MS3S+0uethCO9a9Qp8F5MRnQvqZRx5UDFOHODyIrpXBMgBWaVY9Qx3m2vGUx6PGM0X9X2FYfvBAgbPWjrQUElFd2VxLNbb02Yiu2F0punBYBPQH8qDa/AnVrC9U4Zukd4keYA3ekFQuF39AcNvDr5LFxUY2h1IoH32C9a4qN/lN/VsG1+YLVVif90IFl2jyYqqeIAenhVpPLOLF/hmqXXWiyXf5PDEfr5d4SNF3ljiI+JJCqlVYpQJ5sHdFp/ajiehoAcz9uJGngNE21SG54qLGzbGRyeY2i+2iuAvaAykvpYmfxu3dIyNluiLKV+lsrE+XjzpDDNRj4dxs3/Cu+QInx4uqF32d6/HVDGtQ6f7cXAW0ya7wds57aodKoWiul9XBOf95jHIthOhXtyJCOmHSMSbu0Rt9POhqzoM0qnpEUjsrlunaextmdYtBTekn3d2PunI1wUlcNStGfB4wQR4jqkKkJp+LozCb7gmNDUA1a/l0CWXLxy7l7z/W2tT5HBAAABM0Gep0UVLCP/Afwy5FwukAIS6XPZsaEugEEgZjOfCJv/DlLHNeLCbDIPWYWYgE7oVPjgYAvwwelXSI+9JR33BaKyAGq0oOUfmN8z+uiEFZEXWlBWrT9l9xhaLvmTnnntJvsVlrUzKCg/yfYTnhAeGhAHwmHVqbL9WvHPg/2zHIC8UepRKqfCKsq92CqUWMFCP0/BzDOQWas7c9Vn4DJhmsoeUHKiCYptzveyeFcA+BeksPjYV9F1XPlrZhmtoE1MlW8/yhkkWlS46P8doRhAiV9Lo8Bas8XpjuT3T073UCNQNUH+l75QEwIz7AeO29wztl6bumEfKMfIx9g2PFqG0gaUJ3zvwUvSsQF6RAWWmCha8dUm9v4fGPfUYnnqV9aYUt4Tz2yW6i4nAhDGGgXhsEEAFtEAAADnAZ7GdEf/AS1i7jwDjNrknkGIoNFjzNOWmHsUQAsBXd2aM+aKAEhfqnr1DA9SRLTYMBxU14m1hwJJXU2rGUdPrG68Dkk5+F6n4ASMRDhJ5A8WG0BWICYp9r9tevZK7kw4qmbHgjfu1BMmmq694LLRkJY4wZDQ6RQSAbWTHipR8cCFeYPHDsHvYUxSxTz/P6wOTqSC16LC+AliEcs3Bjc9pC9k5XKgrCSgv+F5WlXTq7uhQy2lxgRVnOwcMfoYUR2uMeKJKLEfEbktaVXRl/80/zc3/WYELZSHdQ187qYl4lXLWTprIAj4AAAAygGeyGpH/wJb8cdPc+yyVe/bEuOrnt3eBFADVDWJSeOeAVABI/MhLrb8Jmd04LZuur3fY4DTbgSAUS7dfRaZRzN2axdReb1CDnTrZtKI9X++wUAinY7eAq9ydse4Gp01ggi3jTGRzCS3HQD3Ye7eI13vdCvlueC87Lp5ONMNMTIcE94eJHNqQaMc8VB1wKnk8ZewxIzRlhAL+L+tl7FwAh3p5bGsqUymc8Fc52NVn5lxMik1g/CZQS/BBJSWgg+eIIwIbEtcP5aYAk4AAAJXQZrNSahBbJlMCE///fEj0ZtqrCqX868lugI51CPpxMILI6MrbTRw7sHSBS7DTQ0f8q8TVxWB8pbjHWcv/p7EjKbhGleG9foj74h4eSYHNLN7UjUOYCzHm9r7zornzh8lik8OUq6YW3iKbnuUS7ZALW8vdlla1Y8L8tV2y3zDSsOPPkBmXWmMAQfjD4H4qygMNui32JiuuTernk3aKQ5S977ghysXMQvvy7LojMryB3yILNA4GpvzV/SUjaK9S1sVtQvo+fLhdz+G57EHDPPblZwqQldxhv+mcuqcTtPUPav138teKwQ+quVR5H+tp6AYo3TSIsQ8ENyUkBfkL4RWMECQo/MZ1TfUJclgE9USg5pPaJDKzmgihtLClyZesg7vJu17t85f9+RdhFW+x4CV09/jjtdwYrdBuempxn1j2FCqjh7L39nIYJqDEOu/TPCcJU+CKTdfnszW2dxDR8zqxHYShBR/lqNVmIdBNwM/Z1f0YxgvHFaMqOZeSI+lbR2Y7OldFdHWvjzCciBsQpdfzdl/qzJpdg0qPrlwkUdeWEOw6iQ4SZo3YwCE0lhwi06dnUQZ/kpxZ8272TADFfCNy/iGIP4YlbRg+HmKvhxx7ePuOXxqctolA+3pRlehJA0/P6zaTS0S96tQPlxGFFmDbW4rIaMk8CpeO965hXNc4sM0CFHhEU1pbUrDGupqBQJmhw14p1eSh0t7GRZlwg1L7dMPPMOlsGPQ0xynH9OBWf1HyqjUTwgRb6I0v+HRYNh8C12ABVipn79OeNkKofisOEPAYB/RWREAAAEhQZ7rRRUsI/8EYx18Gan9XIwIle7OO0CTFecSsaYTbf0sXoXRGV/r9ty2KTdJkx8EoRvaOhgI4Q53mGziwsBmFACL3NxA23SA3PCjYThvCIC3d6VGK31z1jhzEKaDCMUocq8lgrxS80D/Dk4wPB2v1LydNVSNswvx7Y+xsDv/gsN71bblmTWfVllsSMANSPaM49oWOqfs1noD0dz5A8a6GlDyGnOK85Ta6uWlbSYhioQeqb0d9U8CgXCPaFDn9jsfa6UarsC41EF8MWdx6aRZ8s/Ug/I9blcic6CihwqO5OKrboTiSsZfSP/I36bppAp3ACU+wUjd8zJhmPQWV25/IxFKHgN2UxnwHngwedePLjcy/nTWttabHPlNk0M4AACygAAAAKYBnwp0R/8GqW17naRAv4w/F3qfLAwYCuV9h17AlygvBx+XSR/ve1AAJH8/c7B0Yz5DAN9bCGMqwjjuFLK2IpWvnqcFPnRoQyqJgPbprpvLwu3PH6i8t+8FvBQ2Hy1cUMlYZyHOgZfNeiMktPCLSBMLQl14EBk6XxDW9APxqQkUG16sAv1hbOh8Y11sUkm+n2pnqt76fha2eeBOvTN4HvArSbPAALKAAAAAjgGfDGpH/wEcz/3vArk6klIqCeZ5fFN4rizaHvyykwLFA4aHvOQCdsh2V2w0OADjMkVGc/Z1pXvUoqjHSCBdi3j7WfdF/rSXG2udCzlEzUDxOwelh7x2CV1Vq8c+JvlTiBTl7o9J1qBBzRTyaCJmqDKkkkfz4UQLJAk3GLKQAXxoRyH+oNzHiyqFHpsAyoEAAAKaQZsRSahBbJlMCE///fEjz+ICcRwbCQY4gs6J+gnVVlOBAHg2+HPltOE2r/drPpo/yetlvXD0AB+4U/8yM+/1VJhRt6OHEiZtwM6fHZHngRkEmuIZXvQa1hkVd4Wc19uvCrMAAwQ/50I0sAyUwHu0M3BApmDpKgQ75CNnDkhRyQlL3QM2nf4ZBZqsfLxq20jIghPYvyX17+jesBXSCFCOHk2aMGBedi3Ti8kif6y0N9DLPqBmzeQpCXUtLyinJD0mCwztTl9UXqTrO05CzCiztVbRGQhYV+SES0aabWIZoluoUgauihynA+40YDyGA2xO82DxEXdAGQS63boBdgKuTgYghvCNHHvZY6hu2fsRxBLvRiB566qg48eZlunNs9iZmWRXANH0QFdDk2sWeEOfhHfgwphB//LsWe4MuOhzL5UiNqOl8abSdyiQxvih9Npbn1+8OH2hIUy0x6txcZdbIkPpL4nUMko73c578//ALOjlWzd8zgx3TRBys7RfRGMkPcUceDm/yAEg1lwFRP48et9i956t5irbZlkoL3N1IsPKSxigvW0aJCI/NOgFfodJRlIbmF/jTiwbUIW0eDXdfkU4kk6rkBvh2+cIR55Kd5ycv63nEKeUSpB6JwYib03tE4aeyH59KcllG+napb+DOuzHFCafNSddmZ7gua8/9ocUkqMjmbg9+SB9kEDEmJ3Lw9lOXgPu+q5vqsqDoSJ6OWuF/nFQNHjA0k9XEEVZeOOUotZxB2KS4GMTwqULFDy8uABrxuY2130TAboDt7sanxVZjUQGSY+QMx4CRpQhlYZUmrKqLa/0bw3tMSYVerv0bYAnhFn1NzeovS2wOYlFMBW9imjs+TBl6rJThR0QemDUaEuQ2p6TjwUXAAABGUGfL0UVLCP/BJklYmvv44YAjDnRbm0nR4V4KrP08LWS/bfMjF2G6XKlDyGtyceRX59tXyfncNCZ8HuoRvkFACw43TFMS1WUuwCv4Ld3Ey0Lo9ig9EXxCDPWKPzNn4bFpuK0yWRQmIuFwUbDobeZlGmKeVrUVd2C0bIngeqpCuWV8ZzUrjej7E6LYOpBeqeWnoTndEjNBZlE5MdQynhvNrbBBJwwVglVWDDencTFcWVQjc7C82rJTrETLTAEM6i4lJrvVSumoA9nJTGZkPFwbZ6wGuEJbULdAnJVifgeRn/IUIsnHev3WWM709TEwILwb+a0xF4tPOHSAO+0w+QBsCOIap0zgWlJvodVrLWIJgAi/hFkCQbdgAdNAAAAswGfTnRH/wAnwpOwIKxbc+8uvfJqVu2kl1fOkACr1TiZPkvGQWfQIFKosZBZ04aTI+6qtgATtgT9S3YoWUAaNCHaVl52l0zOMu8I/bSHsfRTdhxpyDcXZYG1lfemCCEXfbFTwC6AC0WQZW12Vsenvdu1BljIyiyDMt9Gee0FtoPOZ1Y1HpTS8rzOxU6saoQHPNOGEi26MDvgcIH5wnC+76AyV9uKgmjRQHo5eigDfcdkwBqQAAAA9QGfUGpH/wby9XXJBtkFzfeeut2s89ZzADxCQ4ZrQwZIX6xASaoDCCAoQWX8GtY8gAnaqCf/GLDuPFbQF3eRGyH8Xdn3Z9/KFfyIO+XxRtWihvCkJGFic5bTVv2JzEAQj9kHLHwUKIxwpiHzhvqWSdSmBGiWWTfzjJZGTtlvMOT90mpPfxHnMQt7lDltyrROyEIu/ogynnLhylxaNmPvcaRjyjn2IZMAAE7mXdj1QTvuLHC+KHFj3YMyu7/E3HDQALJFG8zVn+mzqi0CfymH/yLH10omRlZM8FgYSqbYBGQgPWf6F+Ti2gNfR6X09H5Z5Xr74ALuAAAChUGbVUmoQWyZTAhP//3xJI3TBpx92WOs6BYQeoByCAdutCzxLYG8u8ATcSik/iRyeKKIw9N9se9ueJjInNC2lpG9ctaExp1U0+ux29ScUbxJYaQcnoYD7cwWmOim4pxsjnLjbChEo+JFS6MoukEbZTCUNsXsh4AS7vwrh09t0MB9XzKgIJ9sK65Gnf7K5RT+TaYkKKQCRwSr5BNSaiNJa1qxM8POHylWIspr4AXLSbG9TmLr3ONcApE6HTaWOpl853yZf/sZ+EDlIZ1SefgTwMTYZ/xxHRqw4ee3j9IHfaGsqwtx8P8FDbGBboh6Lw9fmVDTQ32B0Is4yUE5g+sEtCSUrx/QKsmL4M1k43fLzp7RRDoxQfj8M9ZjW3FOC0n7oPi9VucvR6JeGqsh4I5hiQxcJNb9lc79IA2s4Ey+JZWzd/k50t7eRrRML9vnslqENn/bSvlX30Nhm2ubVuZTofNOopM+9zAB3lD6HnFtUE1OP7KNLYFKFlLRLhvoZMnGWfMNMIe9F0XJZ/BW4YtVef3EvP+PSD1CxLa0Nzo3jtVuAnst9f10emnt1cqt/uPRUXq9j5zcpzmPz1ZxktTUxxY83JVXzpe5EAq0TbEU1RRpfCwl7YUJ7o52C4NrTovS2vRII+nyIuvk8FJXuQdIXYXuALYaDduK3yrD92Biruo/xLEshh+J0qiYeTrWKBAxGZBTy5ddC81Y1ggpE88LxQwww28B4C6P+k+YPGrMYyWNoA3k/BXJCRZ4Ln9MRMeTEyLsJdzCczhK9Teg8d4+8GcLmb0pVzDB1q99oXzIz2GHXApPuSJCCzzdBme/t9vCOcshl6uJJSqiSr1ArAZl84IkbI0+4QAAATVBn3NFFSwj/wSagIAtacYjuvV7T2lRcb6WfSkwxSj+pK8K2l39RIlLGjsd4Psk50nk1FUbnRgWyfE9OfpmAJlYbIXe/Dy4KzaCyXhoAJaedoobfdHhsrwz5ckV/bKwQ1mcvExK5/aT/g8U7LbhC1mP3X2rg8vwvDCJu4aKfbPQHAhNJ3vfxaa+uf5YOGoZY2aWesCkKXtjabZ+GTl/28aawDpao4btG0XBL9HUBiGOI5Fw0BsVz5oe7erAyrLhFv5UK2RH2idKdZLcgJTQHbhv5bjMk43b+wM4WrqEyPWnAgL105FgGklORFiZjZ6vsM1V/cvrXF/Vus2IlHbV9ASCsvh86tFuEaoe3l3GBhCcyI0+138jadoPnHW+wSuUluvyRmRcU8Y8CysFgPHTGxeoyUAADKgAAADHAZ+SdEf/Bu1s8oibywt1sy5Tk8oBD4/JmTATZrTDaq8AOUZyDhBasB8qCH6AAt9vcS4985ozh0AqeyRm2OpCkzLrt7Kjz/6Wg1vD9YZGEx36PYmwaOA9ctCBmcWxruodtleOdixqWuobdMAg+BQ/BMeR5rHCvvQ48uCjjCThClZWim9grYjg3UFRBKeKU/a/FBqKS6MDvvepgI1f0oLdg+yLIQcZO98p4Sw8AFP99Vo/Xi7u7aMwFrPGfe68bOLPmwzB9gAHdAAAAMoBn5RqR/8G8vKSoy9rZQNDczeDVi/aZmxmMKeoAV26eFVlyQJVOzLTJ12tQ/NmtUABK/lndEW0s1P67wUG+gDTrwv3r5W3qOItJaAUtYOGP+g46OoFm/WOJrIUg1AzbFWy727d7G4AAdjgJBPgOuoMvOH4S8MOpLUxWl/ELcCUSM7u14fj113m1lNxV2T2mnsw2XKzON8ytRc+zyv9elSDwLyYFVhVFXaIIe0jI2SiY6lGz+X1F8z2ZkNw4EN7O68sUIiGfLBkABqxAAACV0GbmUmoQWyZTAhP//3xJBL6Ch7e2faPZe2ULOBVlHCUyDBbcoiAEeaYfxPdqiNt6+Cv4L7WEm1af9VkJIoVmGeyc3nc26E9udwYTKu6+6oNox1Z/KFDUlsczvhzfUX3vF6q8U3MdGADs+RMsFceEsYJ2NgC4yiJavibdHjZSHrKB9mrGCioctVmI+lsSj4PkEEvkt4pUvxKvg/atDC1aj9QFSKtHWE0mOmcwaHNJkO213x0e3987wPCR6GJvPDLaTV/weYbFAIPZYSwgwNqpudJBzOzEKllASpuB80LBR9eV2lPUMf5q138cGsASKcg3a6DLQg5q+E1Im6MTbzJFo0UKm7F8m+G+CnWai+alsRH8g4P4O9AIypmNMWs0WSLNJ3yezJdKRFF6xs8H+sqo8ofAkVBnPV2CgmaEOUx6vo/BncyJwJB/jb+PHIWN076lRA8+hPpKQdIkl2HwsxeZxa47olEreIF0i3UIkvgQ7x3ENYCCNq+j97MxCtN6+apXG+To9M6Xrf9ni+x3yfiEM/RBS81jttGVDXclt56NKZSgocA9KlyW59PNTIYJPm79+RKkSvV5K1Cof9lUWJNrnyfjCKHH8QX4NtAxFBhfC/BRr2vE8+6gljBvQtzDmIgWSskfJGXbDaXw3JZyG3vfsWFaIUqVvFtKT6LlU3wryRDR5An3j2xd9TrzWYKKgLGSLjHktTMFLtCQFG81BGtx7trbk1On2qnjcT0/uczyxpS/S4SrqZEdiqhYQmFGclKrUgHfXb9gY+VOd8vvxqUlg1jLXaH5va+AAABVUGft0UVLCP/CoypxuKpHuEa0ldhxIW43ZKHbaIT32rB0W367g+kO3U6B0JjsFP1bO6k08ntnRSTykZECsIRoIGuVQAPx9VwzAdApdxHIU/m8kACT5c3X3iqFd9bW3MamAr0oP9ibpEXE1tRS711uzSyYUoUtAUGQGm+sciDYKbB3gUMxWIucWHTu09DMJCyg6GqztNUogQVKP9hmlUTn823SQdElWfOPIvEarhZpL4ZidovKJOUV/3qp+hRSdTGeSDi5jieThbIcIksNsbHtOQSswQzX4IBIzEvJ1Db0JmIMHVf02Gn0FHe6DRHvdJ8xHIowCMiLAx7pf4IhAf3Bt8o3GlnroiWpYPuXCHylfG0dZr+k7ugmMPT5s8SRyH8pFJdjWUu6Hj7B0M3wV0FkNR52V6GgyEyyO4AQkhDBXHuDU2+QnS/2/chFvqq4T7H1o/QAAxZAAAA1gGf1nRH/w6rHC2A19ISoE4j0vrVTRIcjcEUysC6pSROc2ATDAm1EvpmOYA2wLkyRIAB+dG1BB2cEWIVxvrGOes6PJgld06w5qFOj1uq5UzYY72R6YCdiCYQWRKsq8qsgpvk7pFAzRw94BJY7T2QicI+E74N1U1rFIC1FwdF+GTuDKxPofgUYmoRZ6zY9NNfl9lm61XfSzE+3z4yq2J4Fb6ZHtQ8wUtsIWky4QRZKmCMNTfY5w/qxncuJ6lzf5EzOV9DBuZEylx/GswQloJykcj2RuwABd0AAADqAZ/Yakf/Aw0nzPxVN4gs/DLs92+fKYeaDaQ7sDEapfoPcBm2AODTXOe6cqYANP/mgyxH2ZI6s7uyUx9/CnXBN+g1V14kzxFMkr3UhR8jHyaMNHTN/fJXG9epop9sZd12MPIn86JDN3UktkyB9XJ5SrwKYzDjqh1GERzGUQ/o6PI9ych1P4igixuYjAzne2YtC8ALJW72dPXv/9wI5ylJmy5+X0tOw0xlZ8OCELCxtsVliRra1bUmVQqFRcUbsGEuKIsef6cZ/U7qtcdCKzoXwPAYA1lGvjN1F/gOAzwnZdQWaumiW2YSQAMWAAACbkGb3UmoQWyZTAhP//3xJCSM39C8fM9O8luhj+EBCYBJ+oB3u2p5MpUE/8sdheHzxicDHojISYSBPg8cBnNtyVEaFK5LNrlWEtdU3kP055acJXpCdSdvJmAWqapoFcM/J61fQBmF4DMSrBbpep1HFr9nHM5PJ/q/Wl9AxEx99CRfAkxkkh/iY9vyvz7nsPBusv+LYzDjSKkCaj9Es2FKP4+4n0cyNjtK3vJ1d9DeMzAdYhXWaYesr3ZLntHustdl5+p0O5ysTJIv4ko/7ywKAGM1518kgqDNNvDVPeQx/BrPR52DmPFU0EU1HTTCmbJqgtCiWN4m04ByX09u2Ike3K9vSwQxohYWcPsYfhjdQ4CYdXoEAmyhQLUNKWMa/r6njAfOIm91bqI9PiaodpD/QyTtZnTSlK4ETelWhkooDGDlTXy2GleQAC21ubSeFw2S58shBMLu13f393z1i5Bp0XmHlg54NneBFR/JZyKlH90n8PGAFphtSLlHtZsEiHQOcKKWLYDF9GhS22xOqJO5lycIPlluzmdM0ePoOhqHJwKbE00xHUZ8AfFmJ0wD8GccZv9YRluel654wL1Kij9f8G/FIDzw6YXJsBnycBxnzXT18DgCTVBWVJ5Fy0ue7E9gmQbp7KfhzFcpZxra3A4T5qgN4SBvBjO71EqPdvPG4Ffdv/hqNt4OvORB4QijrUsw+vS9U8AUjMaW2x0joLp8qFhGxBP8fnRf4SU9Gp4exLAnfBDtZdszYEkkAtWHyK694Cuq0lrNHMXxzH4p8jDpbcjV5ZbjGEmpYQ0jKYKfFHSL5VZ9oOFmfcWgU9DKPuEAAAEyQZ/7RRUsI/8EYx174P4VpBJ9YUcdBCAmW/XcnRMaJS2K/d6Obk5ATknDeOYDc2I42KtYtTXtZSOVJEC7ny1HNpg0d2QpG4J15JF7t4Ia5K9KxFGA9P9EF1mUMr4FloSpQydpI4kNmqvvXt9uiAMC79F1eIi0GuFRJCHcdux3cuV4TEAIa2okvgGwSQp/zQlS/00qBBImyO7uitKMeJSU2sFpiZHWrY4kmbsaxmMT6a19TKg3lwcLeWvlmZdK3GE7wVHP2wrophe3VGTxmzKW04ottG+l42k5ccy7SDI4pMYsKeoioHMHvQxN8OwZ1sZhEaUgXRQ0J/h5mrWAD5Pnz6D1m3uu+wcSN5lpoA31CpC5QPdVQMnBrreL4EYpb9Z1HzqSjHSD1PNQix6mjhXwABgQAAAA8QGeGnRH/wapbXHvOhA6oADqYPd8/m6BwdVTY4QS3sxgzJaO5x4BvaYVNj72pSqa+Apdjpc8mgEwAhAPhRWE49Fk38KeV2Vs5Z69wjLzBLdr6daxWbEj1HsrkNFk1SkYLR2eFu51fiF3+X8VP+UJMTxgtWhuWu7LItPnlVKMDAT56eJNqWDQhzAjaxbq2WSXMUM3fvacuZeIZ+osNCFu4z1oYHWjZLkDN5Vgk6wKKzve+jAtrL5oO0DxZ1EVueyau0Bu4qI6a/xw0wsOIbfNJ0dryoNchxM30STQLeX9iPreWFIDyBISDbQTTpuO5lsAAW0AAADZAZ4cakf/Aw0pyrmn1Yxb+II1VFaP8kdaPp6cxRsO0lwW95MFD4AEMROfbF6YgO9KAHG5G8k74c6DgZokxyxdkDgr69df3pIxg8wTa59q6uf/3xdaH/4e6W8/NPj/yZMySUOcQDd3kYwHuv5u3E3jVvgDTF1ZTNdRtascNAQqSu+NwvtcNUL1mt12c6wZZcsmyHgf5JbYQ3J3sVcqA0Gc55WTOwc6DtVC7BykTVWrZ45hETbvX/GAMzaYBA41N01FuSMVwbIxlxaJtiwa1791cCSKwrBjexwB/wAAAmFBmgFJqEFsmUwIT//98SQS+f+lEVqymtbQKgMQU4ugcfHk4o6DJ3e7ZqDvMK1rvwAuYOaoqsXt9HgCdcxdp39szWEMM2wVIe45q3jYBu1GHNzPWaea2okXNOrFhSRfIhCyzPcnxC7RsSKGUIzbmVYF7z2RCuC589wVJ0v6BPOksP7xhChvL8e1LPT+eTOs18WzLP5334xldSDZgcM3BWPIeWNSzkgRVnI8bPa2f2vBkeZTyImhgwPvtW2SOwXAsIqg7faEC07Tc6vkfwwnwmMSwGc2rvrBXENL1YfykGHzHvYOsj9H1BjekySOR6PZCg7hsYc3UZgDayNIlHHTNrCvK1rFnML7SHIdbRXQx21JTDOEzkujhcol2CRLT646XO9/e6vMchsrmpYoL4tlbKP0T1byMj6MUYexVndDa0INZbP3gAXXjKBtb4Am4hDMS9WOtalP7OXbyiitYD22CCxbsxKRXxNCy8JKFAnw526zHvk+sycyIuSo7GlvdduuEvZ3/5+N4J0jkOu4RdElDVrhr2usK4N9s/bjvJerLVCxseAbcp4ybpZz/bYUDQAX/JUBawmdYsB8J8Ss9qmOBR20e4SnjnKIKgK9K4HlN4gLW+/Q7ouhXLHxSEKA+8s3SgetXE10eysr8NRFM9FzGwMiuVDHdL90JggG3WRo6Xrxnym3tMdKyuGaD+fx43fxpfnYYszbiVrcaAlev3nK0byhrRLbCSGCRJ4xHBw+kJfLsVnI7Na9szqsC8pJPPi2aRMoSuqORJdiWlzcwhwWviX9N6QQhO7gVo04t9UIcQDTnSAAAAFlQZ4/RRUsI/8EYx10M/dpj0hjk9Cl9vjqMqiPoxrFYy42BdJ+TPmlzpv4qwVJoKd/I579pEy0hVE/t7nm8BH4rpLOvE6AASgkD8M26Ivf0E5Jq4NioRF95o8WgPF+vZADVsqNZfUvqHRWkR4bPGgKvqzRj/1LxoRWK9IeqhPN6krK6CQVzu0v/nBZ62UKRRUDJl4+2yJKX3rHDN2EYDL7JDhk1t1+fHv+1h+tXpKrMZlrRQ8/YUfoEfFsxPb2IBT+UOB0X1RLLwGqDOlMGj5ymwVcRnWEZsEgjlYLCZBzjmMrCbvt5oWskp/+2D5+dAtO+iRLpNVvi1WXa1GkVG3y5nBmJMouuzW2XE7wbWUzYb1rGywfCENP7Oyx5mid7dRBK6sLFkZVyEdZEMua/N+L34N1V/hP1mdcv+kX/jiznr+ufkpB0R/NRtRSqfxxgx9AdvO9UEXqzNwvzI1Dc0+lexFAAGBAAAAAtwGeXnRH/wawZ3y4UcMVFEsMYfETrncmPDsqQx+Qq5qtnl/QPwFP0U/pfnzkACIOhT3LWrliUkBabSeVW37p1nAnRlpQ62p086iUzJCkwgqxXOYtpN+UaktSiECZsaDUN/R58ldOM/H0QmTMVdeZ5P2OkTJQL0xKXIF3+vQ9lAyKawmPhFlIDM/slp2SDFJudyiOE+LCvY8/FJK3kxcGPbLWcbU5U07BzSW3FOkcfto7//JsTgAFnQAAAQIBnkBqR/8DDSfeMQAvAfkjMfupuHS1Xr2R2kwstHJc+a0x1m+D01C0fogKXtuqyopwAhb6ZC8kB2/RQ2KXSe0pKw/M7ab9iNaon2yY+vEF44timuZ+PVdlgL2AuSwpSPao84uEn7zSqIfk5AEG0CIzUMqlbE8Cx2dkUyLl0BwL2EQmUb3lGxPIHJG+pKgtrMUj/+4dPkz3KJe8mexfYF1zDHpdn32kfHoovoMET3fYUyQqPSZGBjQ0xYGo9dDCz+KV/mXA16kn0A62WlXuXXFWqvOv/JbOJWDAQv/+nkXrUZ0oWZayFLWcSsS0vsOfc03GoxDSaNEGyw1m663KWMTQAZUAAAKTQZpFSahBbJlMCE///fEmTOxLbE0f2wgb7J8pn3nui24trbzSi6wnZ4O0rz+7ZsSgmKlF8fEBdpnEL1fEiOZpEGYvKNr49tNOdnLiW1SIjFNZ62Aw4n5/rEDA+Kf38BOD7EnsZVJxqPLxUWs2K9ixhGvAG4AZLLkoj/zu4FNJbT1Lvwa2N7SuDATXpTu0RdzQncTGcq9qxg7OxFp8eIk1FoWV+E0s3lQpqU583G/03wMuVCCM7TU7W/H+5VOYj6snTJAgK9cR7K1i9wuyt+/QBeaQdX3jsesH/ksmJTdkSwUl9eMMVFZlE9Iynp15UiUfcPu9mXvjWTnI8x2ZzuDRljWRM3YPDjmErUbLYr4vd05zQBZP8yugw+Zo2F2ks7Glj1sjwpNJQDigyl6zG0SnuJigePVILXUyMs5KELyfbEoNgo282dsEuj/TDepyA/OvVWEydNV5op6QrK+85Z/iyQD3YL3gelCJnmMOVQUmM15k14xJwRwzRsbqC8D2p4BOkAR/hRZ++N23U7eUKZYe7Kpnxo8E/+NPDi3gvQCBYEyhQM27edL6x9txzHhW6GYO/yjY3utVvk/Wrv5BtNBfCFkOTDeFaVojmx+eJqFHG9Ih9V7jqKoMOkkdpW3LkkeW+H0Y5aPP77IzMw0NLlsb+yQ99MBmKAijT4/Z3mSy0hoIcr4g1Cm/pfxf3yG3P+aJPQkYgdNIlDpbiJSlX6RiziMs4oRyUPcSS0X1V/h94QMjaU3VLComQ1ier3NS9uQIeESGNdibH5hGN3e4/bIEU6jMimE21/7QIpE79jayFfw/gTixAzy03OMgJdcwLJxu8gARGQLMPwnKRtHifNt+G7G6j3kaykDzCGVB0oq1LY3f4iEAAAE3QZ5jRRUsI/8KlibQpgRaOMYG8HxoVntkXQfqM0yvQqsDww9nS0LOMle7tdZYj/eKd0OHQJHmKj3UDZ6TnTz1Em0552LlD4WCDTYeZhslSAM3s+UoOJroR9VkirqNum/RJTBydbVPbhth8AF0AS3RB9bhKnkGa0prvkSKGJdPscYaxBGrbAgtBgfYWzWTU1s/QemsHnZtcJY/XSKxQIZxBN8ZnV25gDs/B97hDV5OaJ0AG1E/HofyJCq50xKMjAjGMEK9X6MNZ0J90LCiuEJ5jBX/AxOTqNGj13ywL8LTwmh7FBkns0MPudOfsKURG4J3pkGtSFy4ec9ZBuXCBy5p4TjpTx2krOJvGhlLkEUiBJc1riSOQ0UEiNB4ug0ae7ZpV+8IVk2MEmoKtaRJBD+P5MfV9VAAG9AAAADCAZ6CdEf/Bf17WiPuf6RVrIVR0f7ystyhdgbyMytIK9kwY0txdPWWK0j9qrRNi40jGXyP9wAWkTHkHKCSIPcZFjJWLO9FAmSvbDnvzOYQPGXMzg0GUoMg2s7NMT5Ox9FXMw4VA3Jb9o9EdtVU91VZQ7VIPERo8+vCHA/dqnuRroVTpQRiKu3G0LypUki2AD2+k4kBH2Bi5QWRZ/b3GKTPeZ/VyhB9WhMtftwPHQJ96lkPniuDrzmXv/jCOd4pw3YADekAAADlAZ6Eakf/DMZ0+9OFYhL0APlH7SoXgEUKdI2eKmMxDJZ4fK9cgXR8oE261PogGJInKWM47skwAq4G7fAAH9v+CEFx+zTC9wl1u57KXPRfskCmC4BYke+4K1SixINDmv+Wd3AsH4v/iPZYm1NRL6oEzyIm+DCDuYG7WXoSiEFSUAO26ihoN2L918i6J1RMAodakLEXadskwoywQJ+0QkVBQBiuBjs4YyVA4f9OOLWSGHB0HOOJa1yF88GXB9z/tcZdvsSfuPevJj2OBYd35A8bnB/LZQJFoYaXcIQr7pjlA5AItAAF3QAAApVBmolJqEFsmUwIR//94TL2Qln60vuuDuogStObNxgD3e921PJQg8N9P9Koy5VQRuHevSqZCFOopnq5tvsRro/mxRYnfzcGyxU5ScaEZ1/i8Zuw0p5rp/rRgPrXi68oti5/4lQAOkbM7ekzd60IX30303ZIYIMzn4cmNItpabp4XYksP0EXvdIYnNLLQgWmc3E+3RfE6ZJPhpuRJEW44Tb3TnaTvU5UpUPYrbODeuw5wxUJAfyzLbf5XB/d/49NpKZfCThgG8txPc0bZjgtvpNrOQCV+UV1FXGdYKGvdHoMnlOnWzKxRvIbv002/wgJtktq4kbQpTlym9AyGJp/8MLIT0o/4PoRVY+0JMjX37dMfGp2FO4orboPEa6+hlffRpXbPPFBSWTjS5xrkfit9kEy1wV/Xzbd2YeK7xuA8hpSOd9tmNcE0v23tVWYxAqXc2GBcSYERwAKMeXVhJ9/Q18cXZmi2ErC1hsHdnjvFSJeLql83hmIeh3KWQj51WXC80ZBWjOmsvuRLhrrUuJwWhcBW3GZWHaCYd4w9C5liUuIXOEBMrbRkjCjFXjb/Wi8wbuHEF1IQX0MCZXVJgrm7mnErz85PdCEahgGLLIsYuEAU2uine9J+IeMZtrpz+O4+i/vVddegATLa6aTHYgFAO6ph/i74ROq3IegD8SR9K7BAot7GqYG6oupo9P2qIzrIpO9DdTm5ho4BNUsOUdBMrgzXzpxe1BLmcZTTAeVsPg6JaeFnkq9IHWaWrc3EfVaHnrjyr1mcgHar+N2hcshZi4HlLq9gQrUlamYXSsIZv0OrRoSPrzm+M3TIcUXXR3xMG7Jp9IUVyVfRgaiWTcANMabz8zmszOilV3QW5D/lFFnOgpFpq7tAAABm0Gep0UVLCP/CoVT16kyNyfmbhLT3MHNhqK8PWu+9PBzWL6xPly1w/uyC4Ja7XLhthANk4HHWP8mjVqrC/WnyrhpjRTXPoB4uVfe2dJCyCNAEbfw9qkSlS05WfLOi9mG3zkFEQQlNWd5SZJqMq/A90RhA/sbzeqf07bix7OOnN2NgNpZ4jbNgy8u5uoFoDjzqdJHbmb5RJZZolS/VIvhq849c9C70Z2c5VsggtQfKZNRSvX5mkbgLcBZHYXWpIB79WusbeCoKtXkMTOissth7EoxgVfu+Jj0/ZN/Ult/wEP/xHSkrKbOnavOcLA+iqmAynSk5/0153y6WIcbYAuTvhBXwk/bJIQbQkPY82pO8pW61SN+tnXMyYyb10Kf/uAh0EgrIyrOFQjsn2PlVemy/tHF+H+rRsLRyaQUaIV9Sr4saMxh4eeTDH0KYntzY6+r6DyhTAByo+5td3ZfqdW4QocRcY+Z0vkmR87GAyRI3JEIvEWEmoquYpces7t2BX6QN3KoHWdZs0uIOBVCh7cvnqqxO77NWaHlgADPgQAAAQMBnsZ0R/8OuqSUiXYG3ZRiLpIzhmcL4RYDRovS+Ux343ptwBpHPeLv1ThKOcutVFzX1MQy+K4F7S7GQBsGNBWYAGbZ3k7idsKAPXJVLqXp6ZDhIdvbaqNSPwQySEUov/xzU34vFXDi2vhkEN7fG1SJtgo/1nZ4b99k6ZE8+Z+Ha0sdyM1IwO3bXbpTLMn9boXk2BeDn2FdicNu49ucevRUiHig+juGlCg4uJH5OFPSmmM+6H5jM1yj5S2/OLXNQc2+Nya1crYgAbwxCmNn7TAQEKb0vQ+6k5E+Bye4NXhyJ+3Bp9d5QV6m8Xar2lO/XKDpewBmY/DzeiKwyOMdQ5tFAAFTAAAA8wGeyGpH/wartMMGitB62TwaBbLUWkNbO30Vax9DAc8GR36k0nStm2xjFdZWMh3+i4nXcoAXcUxhKuGCZrNABGEA4ndHaibAVJqjrzccclrBFVYH7K17pJwbPQotVzAPK35sLokKcvmdZy3T4Txdz4tWY1LJvUiIoTbhULU066nNih71IqsSBCckfGECyUqKk4OHrT0BnbfDviCaG2O7zt8gMToZz0T9OgKb2Q6wxXvrNEip0+0BYfqTqXRK9BaDxqIXJ48Puzgc4E/R4IGfpG9pyOMz6AuaYBqruqln80y3hZHnejFXhuhBmZgGwUTJkABBwAAAAfFBmstJqEFsmUwUTCf//fEkGvE9QYPl/OvJboXl7GCuRSvvdtPtzFMTvqvMf3gzHQXX00UX2qipfu5TvU/Fn4eIJBg23ck2xNDswvcmpP3Ck/GAJ0pEZf6obBUbVfkIhxCqJmRAZuUwSt+sqBphzQu6kmTCfeHYLW39FF1Ea0EaSFTN2kxfs2KOlztwvEvCT3VnGyo2ohQIQjtLZ+DH5jJAfIfk6y2Yyob+Rg4EQzvmHXl9rUV9VXdSe//Hm+0ak+OATPY9uXgAyVLvzC3sbVTDeJNr4qfhTN0n7mZIIMuptUGo+D5E+i4YHZcP/oBflJHft7TeJ0U7XPSwemZM1oaRRMPKBBg8kOJgM97yv7UPoZW0+bBSZGwz4fymo8coRYk3xjHPK8cl5uXW/8M1XPQJ7OyUL/eTMpFEJiQd+KF8cUcKpHHlhizYYjbB54XQuGVaGHpae+YbNcp5uPUWMFDN1VwpUcJ+LGF1wlq8ouR4LwcZ6IgleOZYKLLf6aHaV4RhwbxYwMx0mPPLQRaKbczX2QJ+B/WW31g/HMvYEZz49RslPrUWjmtY4Rv/pChLJpNaBEePYLzLjlXe4YFBxLUarXx5iSCotl3qgW0Mq0W3yHIIDHem6ywfLbqf44oB1TIxpVuPY3i3SlMsEO6PxEFhgQAAARUBnupqR/8Gq7OfPzdeWlGIac3ARjGhd7RmSxLiZfLfT0ZGiUEuXiakUf2tx8E3eGRzgSbdcP1TuHvUc6ACUYOdLxIrSZ8c9UkegjIPu+H5vKU80Wqh6niCDFuPMXTcfCACdudyUqaWLVC31ub5+ZSsJ8xJfLxiXqMC68+zPqy0zN/VW6ajElL7Eu+FCbeLk4XJbuYhYtvnmt4csEGMghthBA4pexFfwqZYDYzejb/87WSf+PBm/jfulEZtGZ4TWH4LFzPej6LxKweEbeur7UkT9fnLnoL2YcU8qDUfZ3TTLhm+PDqxakDMiRVOHGQ+ud3jLS1Xhlc5wV7MRjWzVH/rCyHfGEnjpwBCvmxAgtJtzwtAADugAAACQUGa70nhClJlMCP//ISYax++LLVKQJSTgAYO0QCj+O92tGeUdPr/XH6F+e72N+EnB5f/KrTUoIn7wgRgxp0Pbx4RS6K4CyH2zhGpFuzY9/bjIgQbG5GIz++jx0U427VYAUkvgwrEMdagm3KlpgCkL4EuL+MH2zl3T0kPt3Mq/NhGxTwknZW+waRf/5+M1nOTjcKG9sKOdV2WKvsivWIN92d1Vdz12Dnntsnl1PxjIIrosCbIxwa1wA69/PUOOksXqzAIdnoqim9pu6nDb40U8bH8VIaNQkzos1Ta0HrSmtS7uNJM+bjkVt2oQlNw6DGqp+zbCZXicgR+r5hVcSzuaZfOc8szDkKGGmS9AMSwwYwvoqNHe5C5fW0hgNfXxPrCyaKYmM9I6MQKMgDuCPvEG0i/dVs2VXjtGbHjG1jDgoY73j5S2pkPRpLydZXOj9XOW5XcF6yh1RWLoHYHqFuim0YVh3DXzztoywEhwWqlL0jpEYL3EdOTMVdQ9SqN2R1Syiey8msfSi9bm6Dqdwjhs9p7aLLSA2H3IHGDlP7KeG2s0ok7jaHJA30e01a+IvbozWHxuRUgkd1R9S0RABJ6vircPa+yQfa278AT5QA9Y3Nlq5LB21DG0+vIf45bvE+F5G/fafXXu41LMOOYWtWKE4q1fzYeP8vrXi+AJGYD01LzBG5E09efFbmv7/iruQDrME/dN09fukpXkKY0CABXbwlJyv+2cG9Rf4d4efmVMLYmil7pVGqZCCyprvNIT5aK6zMAAAHJQZ8NRTRMI/8KhVPmH2a4+Pwo7KH8Pc5SFBZO93R/Fp5YO9OaPkPMr1M+1y74oBf84W77Zct0SPP1Mfqd3EvKvTgX8XRvEAT2yrbuc3cfcaYeAL4heHSRTakp4iKhkoywb7LMqSlS7YTAGk0OkBleVUenleeLdjf62LmgUtbcvhnTb7gj9Xm6Jt3Z7Cx9T8tAJJvyxdp63C3dEiqrKPms7fu5aOxTzA5M2rOJEikgJmd/7YieG4bQStUugeBCjOWC6c+skVA/Kcf3wHB8Wt3h61ciqNvYo7C9PAAy+JCshUjQXfO67DF/UpGVkjx64uxope+GiwGz8S5gzJNtCuHNEFEY8NdnA8DVs5ZBvMTGyXc1puT4fTFnhT3Okjd+6yLrsif42L10yATOz+0/PNmP0fimGSz5eBQ98DDV5VgofMVJnRPwY5I7maXtQjcTMksLsPVG2L1J+5gAMB9JOU80KdaErAQBVyiwPIRzhOpYADJldwEF/7GhZ97+cTq+a6LATViDPG54B1XbH3OR9wg9oxq6UfVTwt+hcAj8P7jIt8JBJiSCfZ1TAiuVo9R6O+P8nFuUaQ7/loz3xttCxFLUzjbqdixSKADKgQAAASoBnyx0R/8G7W1xTeYf1fSGShvrGxYGGntWUYPkhSitDILKec1z+p//ze+MmpwyQlNplQUPsAAS3ZR/CS0agSVdYhbRexGlI7AHyBUAE1Heww4tO6nU8IOXdC9+oy3QcjJRJ3QMBSBbze4emh8ZmNflXv6wx1vo7+og3daJutxRCx6YpAbTWa3UZlpLYbD6cmFeHS/xux5mW82jierhJyBAigytrKuO55fQbu2iSW9z9Kgxe3r1D2cBZDUFU/8/DwUc0/VILhlJX1fkGT+srZrpSxX1ln7NGsUMBOxr3cUyLRxHNUeBb+8dz48R6O1qJjdCsnzzvAUvpb64OVYFzxZOgfb0Oy6bSYs5emAjinkZjxSdOtrk2WgMXM31zITUy4Q1vPy1w7h5QATdAAAA/AGfLmpH/wMhKcq6ONULEVz7SCm39rrB5lyndO3z1Zvsq6sAqAH1NVqsEcR7cAO0YrKn34z4x2T8eoHfQoMMp0UcP5kAEv7ShHj3GfSoIJlI/fKekzKQxyXvZeAfFDGGreYf7U9+MPWFG4wyicjZ44CgScp00TAv+zMgcCry6ngkKFAHeaVqHy/LvI96jh0+tPQ78upJVXNtAtj2DwjkxsK/y/FexxF+Js02SotA/vcJv8eura4Gj3ZJjP7UvTsU1okt3qUkX0d4ZbfQp4glNRjPdLVEC2tlU9EUPccL2hpUPAA4XTukkHQoQuK7taDuLJVldu0jlv0duMAQ8QAAASNBmzBJqEFomUwI//yEC0n/ec/JQ9psYK4hDw6+85e+Slfwnbliy9dQWrdp0BJqCkUu3NT0E38qLa4j8hgzXSj20JFwT/omPquIHagAT9nfxcy2qOU6N0z9XgygTrCMffnEslRqGz0sEBs0GUnFxC6m5MogymCc14sKcF1IQchDJ/YdvHlR+sFH58sYI7LSnZbGkQmCEZHeMJpffEGPDUfLkKtnzSgkbdI0sX/KfgrWb5OYVp7jSiH2seSWqJ7m4qZkCsALG4LkbI6B3Edbnf8qHNVzTgj2P1gOe3D9djgvmZD4fd7KK6zm0SCrqbT9QY8q9UYfQOk3Ebt01zcRAPryBQB4wRvlY5tPDuDLmmd5rKh88JkQeJWY/Ai00LJgBESyvmQAAAbXbW9vdgAAAGxtdmhkAAAAAAAAAAAAAAAAAAAD6AAABlQAAQAAAQAAAAAAAAAAAAAAAAEAAAAAAAAAAAAAAAAAAAABAAAAAAAAAAAAAAAAAABAAAAAAAAAAAAAAAAAAAAAAAAAAAAAAAAAAAAAAAAAAgAABgF0cmFrAAAAXHRraGQAAAADAAAAAAAAAAAAAAABAAAAAAAABlQAAAAAAAAAAAAAAAAAAAAAAAEAAAAAAAAAAAAAAAAAAAABAAAAAAAAAAAAAAAAAABAAAAAAlgAAAGQAAAAAAAkZWR0cwAAABxlbHN0AAAAAAAAAAEAAAZUAAACAAABAAAAAAV5bWRpYQAAACBtZGhkAAAAAAAAAAAAAAAAAAAyAAAAUQBVxAAAAAAALWhkbHIAAAAAAAAAAHZpZGUAAAAAAAAAAAAAAABWaWRlb0hhbmRsZXIAAAAFJG1pbmYAAAAUdm1oZAAAAAEAAAAAAAAAAAAAACRkaW5mAAAAHGRyZWYAAAAAAAAAAQAAAAx1cmwgAAAAAQAABORzdGJsAAAAmHN0c2QAAAAAAAAAAQAAAIhhdmMxAAAAAAAAAAEAAAAAAAAAAAAAAAAAAAAAAlgBkABIAAAASAAAAAAAAAABAAAAAAAAAAAAAAAAAAAAAAAAAAAAAAAAAAAAAAAAAAAAGP//AAAAMmF2Y0MBZAAf/+EAGWdkAB+s2UCYM+XhAAADAAEAAAMAZA8YMZYBAAZo6+PLIsAAAAAYc3R0cwAAAAAAAAABAAAAUQAAAQAAAAAUc3RzcwAAAAAAAAABAAAAAQAAApBjdHRzAAAAAAAAAFAAAAABAAACAAAAAAEAAAUAAAAAAQAAAgAAAAABAAAAAAAAAAEAAAEAAAAAAQAABQAAAAABAAACAAAAAAEAAAAAAAAAAQAAAQAAAAABAAAFAAAAAAEAAAIAAAAAAQAAAAAAAAABAAABAAAAAAEAAAQAAAAAAgAAAQAAAAABAAAFAAAAAAEAAAIAAAAAAQAAAAAAAAABAAABAAAAAAEAAAMAAAAAAQAAAQAAAAABAAADAAAAAAEAAAEAAAAAAQAAAwAAAAABAAABAAAAAAEAAAUAAAAAAQAAAgAAAAABAAAAAAAAAAEAAAEAAAAAAQAABQAAAAABAAACAAAAAAEAAAAAAAAAAQAAAQAAAAABAAAFAAAAAAEAAAIAAAAAAQAAAAAAAAABAAABAAAAAAEAAAUAAAAAAQAAAgAAAAABAAAAAAAAAAEAAAEAAAAAAQAABQAAAAABAAACAAAAAAEAAAAAAAAAAQAAAQAAAAABAAAFAAAAAAEAAAIAAAAAAQAAAAAAAAABAAABAAAAAAEAAAUAAAAAAQAAAgAAAAABAAAAAAAAAAEAAAEAAAAAAQAABQAAAAABAAACAAAAAAEAAAAAAAAAAQAAAQAAAAABAAAFAAAAAAEAAAIAAAAAAQAAAAAAAAABAAABAAAAAAEAAAUAAAAAAQAAAgAAAAABAAAAAAAAAAEAAAEAAAAAAQAABQAAAAABAAACAAAAAAEAAAAAAAAAAQAAAQAAAAABAAAFAAAAAAEAAAIAAAAAAQAAAAAAAAABAAABAAAAAAEAAAMAAAAAAQAAAQAAAAABAAAFAAAAAAEAAAIAAAAAAQAAAAAAAAABAAABAAAAAAEAAAIAAAAAHHN0c2MAAAAAAAAAAQAAAAEAAABRAAAAAQAAAVhzdHN6AAAAAAAAAAAAAABRAAANegAAA4QAAAG3AAABhwAAAZkAAARVAAACswAAAfoAAAJbAAAEQgAAAt0AAAEeAAACMwAAA2wAAAH2AAABdwAAAeUAAAE+AAABLAAAAPkAAAIXAAAA8AAAAZMAAACcAAABigAAAKkAAAHqAAABNwAAAKkAAACpAAACMAAAAOgAAACOAAAAmgAAAl8AAAD+AAAArwAAAKoAAAJtAAABNwAAAOsAAADOAAACWwAAASUAAACqAAAAkgAAAp4AAAEdAAAAtwAAAPkAAAKJAAABOQAAAMsAAADOAAACWwAAAVkAAADaAAAA7gAAAnIAAAE2AAAA9QAAAN0AAAJlAAABaQAAALsAAAEGAAAClwAAATsAAADGAAAA6QAAApkAAAGfAAABBwAAAPcAAAH1AAABGQAAAkUAAAHNAAABLgAAAQAAAAEnAAAAFHN0Y28AAAAAAAAAAQAAADAAAABidWR0YQAAAFptZXRhAAAAAAAAACFoZGxyAAAAAAAAAABtZGlyYXBwbAAAAAAAAAAAAAAAAC1pbHN0AAAAJal0b28AAAAdZGF0YQAAAAEAAAAATGF2ZjU3LjgzLjEwMA==\" type=\"video/mp4\" />\n",
              "             </video>"
            ],
            "text/plain": [
              "<IPython.core.display.HTML object>"
            ]
          },
          "metadata": {}
        },
        {
          "output_type": "display_data",
          "data": {
            "image/png": "[encoded data removed]",
            "text/plain": [
              "<Figure size 432x288 with 1 Axes>"
            ]
          },
          "metadata": {
            "needs_background": "light"
          }
        }
      ]
    },
    {
      "cell_type": "code",
      "source": [
        "from tqdm import tqdm"
      ],
      "metadata": {
        "id": "q0RaNnaxpjQf"
      },
      "execution_count": 11,
      "outputs": []
    },
    {
      "cell_type": "code",
      "source": [
        ""
      ],
      "metadata": {
        "id": "p1D5nyK2rDwz"
      },
      "execution_count": null,
      "outputs": []
    }
  ]
}